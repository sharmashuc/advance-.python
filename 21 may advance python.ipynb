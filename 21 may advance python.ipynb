{
 "cells": [
  {
   "cell_type": "code",
   "execution_count": 1,
   "id": "29f4f2b3-457a-47dd-95b0-36cc6879891f",
   "metadata": {},
   "outputs": [],
   "source": [
    "# Numpy ===> \n",
    "\n",
    "# (1). same data type \n",
    "# (2). Memory consume less \n",
    "# (3). Computation Power "
   ]
  },
  {
   "cell_type": "code",
   "execution_count": 2,
   "id": "e9a9f200-ea77-4196-880b-21a481975e28",
   "metadata": {},
   "outputs": [],
   "source": [
    "import numpy as np "
   ]
  },
  {
   "cell_type": "code",
   "execution_count": 3,
   "id": "45232aa7-f98e-4aa9-854c-0986ce843e5d",
   "metadata": {},
   "outputs": [
    {
     "data": {
      "text/plain": [
       "list"
      ]
     },
     "execution_count": 3,
     "metadata": {},
     "output_type": "execute_result"
    }
   ],
   "source": [
    "a = [1,23,455,90]\n",
    "type(a) "
   ]
  },
  {
   "cell_type": "code",
   "execution_count": 4,
   "id": "cbf71926-bf98-45de-b18b-9b35fdc24400",
   "metadata": {},
   "outputs": [
    {
     "data": {
      "text/plain": [
       "array([  1,  23, 455,  90])"
      ]
     },
     "execution_count": 4,
     "metadata": {},
     "output_type": "execute_result"
    }
   ],
   "source": [
    "b = np.array(a) \n",
    "b"
   ]
  },
  {
   "cell_type": "code",
   "execution_count": 5,
   "id": "05ea470d-db14-42c2-9aa0-0afe3254249b",
   "metadata": {},
   "outputs": [
    {
     "data": {
      "text/plain": [
       "numpy.ndarray"
      ]
     },
     "execution_count": 5,
     "metadata": {},
     "output_type": "execute_result"
    }
   ],
   "source": [
    "type(b) "
   ]
  },
  {
   "cell_type": "raw",
   "id": "1fcc01a8-af54-4556-a66c-4ebdb0f277b3",
   "metadata": {},
   "source": [
    "how to create userdefined array \n",
    "\n"
   ]
  },
  {
   "cell_type": "code",
   "execution_count": 8,
   "id": "7e3bd7bb-ae53-41a2-8ac3-034c5f2dc69f",
   "metadata": {},
   "outputs": [
    {
     "name": "stdin",
     "output_type": "stream",
     "text": [
      "Enter size: 3\n",
      "Enter item: 45\n",
      "Enter item: 56\n",
      "Enter item: 89\n"
     ]
    },
    {
     "data": {
      "text/plain": [
       "array([45, 56, 89])"
      ]
     },
     "execution_count": 8,
     "metadata": {},
     "output_type": "execute_result"
    }
   ],
   "source": [
    "a = [] \n",
    "size = int(input(\"Enter size:\"))\n",
    "for i in range(size):\n",
    "    val = int(input(\"Enter item:\"))\n",
    "    a.append(val) \n",
    "b = np.array(a) \n",
    "b"
   ]
  },
  {
   "cell_type": "code",
   "execution_count": null,
   "id": "06ee3b6d-3022-4e64-9a72-7724e2cfab63",
   "metadata": {},
   "outputs": [],
   "source": [
    "how can we check shape and size of an array\n"
   ]
  },
  {
   "cell_type": "code",
   "execution_count": 9,
   "id": "fc571c10-0cb3-4b77-a7e8-d86b6d9fa8f3",
   "metadata": {},
   "outputs": [],
   "source": [
    "a = np.array([1,34,89,9900])"
   ]
  },
  {
   "cell_type": "code",
   "execution_count": 10,
   "id": "b862bb4e-dfa8-4c11-b443-d0bcc2d39cb0",
   "metadata": {},
   "outputs": [
    {
     "data": {
      "text/plain": [
       "array([   1,   34,   89, 9900])"
      ]
     },
     "execution_count": 10,
     "metadata": {},
     "output_type": "execute_result"
    }
   ],
   "source": [
    "a"
   ]
  },
  {
   "cell_type": "code",
   "execution_count": 11,
   "id": "14826e7a-b7df-4251-8dfa-fc98f811c2ed",
   "metadata": {},
   "outputs": [
    {
     "name": "stdout",
     "output_type": "stream",
     "text": [
      "Total Shape =  (4,)\n",
      "Total Elements =  4\n"
     ]
    }
   ],
   "source": [
    "print(\"Total Shape = \" , a.shape)\n",
    "print(\"Total Elements = \" , a.size)"
   ]
  },
  {
   "cell_type": "code",
   "execution_count": 12,
   "id": "6f8cd24a-ecb7-4305-8b22-f2a35d79a137",
   "metadata": {},
   "outputs": [
    {
     "data": {
      "text/plain": [
       "array([[1, 2, 3],\n",
       "       [4, 5, 6],\n",
       "       [7, 8, 9]])"
      ]
     },
     "execution_count": 12,
     "metadata": {},
     "output_type": "execute_result"
    }
   ],
   "source": [
    "a = [[1,2,3] , [4,5,6] , [7,8,9]]\n",
    "b = np.array(a) \n",
    "b"
   ]
  },
  {
   "cell_type": "code",
   "execution_count": 13,
   "id": "a466b82a-cf13-4a5a-8647-d77446388db2",
   "metadata": {},
   "outputs": [],
   "source": [
    "# row_1 = [1,2,3]\n",
    "# row_2 = [4,5,6]\n",
    "# row_3 = [7,8,9]\n",
    "\n",
    "# col_1 = [1,4,7]\n",
    "# copl_2 = [2,5,8]\n",
    "# col_3 = [3,6,9]"
   ]
  },
  {
   "cell_type": "code",
   "execution_count": 14,
   "id": "5895ef26-8676-4864-84ef-7ea2219dff84",
   "metadata": {},
   "outputs": [
    {
     "name": "stdout",
     "output_type": "stream",
     "text": [
      "Total Shape =  (3, 3)\n",
      "Total Elements =  9\n"
     ]
    }
   ],
   "source": [
    "print(\"Total Shape = \" , b.shape)\n",
    "print(\"Total Elements = \" , b.size)"
   ]
  },
  {
   "cell_type": "code",
   "execution_count": 15,
   "id": "e5f13ffd-8cf1-4e47-bfe6-20b506340482",
   "metadata": {},
   "outputs": [],
   "source": [
    "# iMAGES ===> pixels(0-255) ===> 0px black , 255 px white ==> Normalize(0-1)px \n",
    "\n",
    "# Intially weights ===> 0 , 1 \n",
    "\n",
    "\n",
    "# optimization ===> 0,1 \n",
    "\n",
    "\n",
    "# matrix ===> n(rows) , n(columns) \n",
    "\n",
    "# symmatric Matrix ===> n(rows) = n(columns) \n",
    "\n",
    "# Aymmatric Matrix ===> n(rows) !=n(columns) \n",
    "\n",
    "# [(1,1) , (2,2) , (3,3) , (4,4)......(n,n)]"
   ]
  },
  {
   "cell_type": "code",
   "execution_count": null,
   "id": "cad5ce4c-10e1-4602-b0ca-615786821ac9",
   "metadata": {},
   "outputs": [],
   "source": [
    "prer- define functions\n",
    "\n",
    "(1) zeros () ==> it will create an array in which all the elements are 0. \n"
   ]
  },
  {
   "cell_type": "code",
   "execution_count": 18,
   "id": "4c041fd7-459b-4b29-8bbd-30a3fb12905d",
   "metadata": {},
   "outputs": [
    {
     "data": {
      "text/plain": [
       "array([0., 0., 0., 0.])"
      ]
     },
     "execution_count": 18,
     "metadata": {},
     "output_type": "execute_result"
    }
   ],
   "source": [
    "a = np.zeros(4)\n",
    "a"
   ]
  },
  {
   "cell_type": "code",
   "execution_count": 19,
   "id": "131d0215-5c33-4c6c-a44b-d0227b79f732",
   "metadata": {},
   "outputs": [
    {
     "data": {
      "text/plain": [
       "array([[0., 0., 0.],\n",
       "       [0., 0., 0.]])"
      ]
     },
     "execution_count": 19,
     "metadata": {},
     "output_type": "execute_result"
    }
   ],
   "source": [
    "a = np.zeros((2,3))\n",
    "a"
   ]
  },
  {
   "cell_type": "code",
   "execution_count": null,
   "id": "e4bff6f5-891e-4669-ad62-98c2805486c1",
   "metadata": {},
   "outputs": [],
   "source": [
    "(2) ones ()==> it will create an array in which all the elements are 1.  "
   ]
  },
  {
   "cell_type": "code",
   "execution_count": 20,
   "id": "3e8447b9-621f-4597-b486-ff4014c174b4",
   "metadata": {},
   "outputs": [
    {
     "data": {
      "text/plain": [
       "array([1., 1., 1.])"
      ]
     },
     "execution_count": 20,
     "metadata": {},
     "output_type": "execute_result"
    }
   ],
   "source": [
    "a = np.ones(3)\n",
    "a"
   ]
  },
  {
   "cell_type": "code",
   "execution_count": 21,
   "id": "ced3d8c1-cd7d-41b4-9936-6aa0a5b3ab16",
   "metadata": {},
   "outputs": [
    {
     "data": {
      "text/plain": [
       "array([[1., 1., 1.],\n",
       "       [1., 1., 1.]])"
      ]
     },
     "execution_count": 21,
     "metadata": {},
     "output_type": "execute_result"
    }
   ],
   "source": [
    "a = np.ones((2 , 3))\n",
    "a"
   ]
  },
  {
   "cell_type": "code",
   "execution_count": 22,
   "id": "81dce56b-f783-4512-9180-112c058d8e56",
   "metadata": {},
   "outputs": [
    {
     "data": {
      "text/plain": [
       "numpy.ndarray"
      ]
     },
     "execution_count": 22,
     "metadata": {},
     "output_type": "execute_result"
    }
   ],
   "source": [
    "type(a) "
   ]
  },
  {
   "cell_type": "code",
   "execution_count": 23,
   "id": "be40c5f8-e1bc-4347-9bce-5d37eae32d58",
   "metadata": {},
   "outputs": [
    {
     "data": {
      "text/plain": [
       "(2, 3)"
      ]
     },
     "execution_count": 23,
     "metadata": {},
     "output_type": "execute_result"
    }
   ],
   "source": [
    "a.shape"
   ]
  },
  {
   "cell_type": "code",
   "execution_count": 24,
   "id": "16957346-91d4-4b81-a929-2b990c7f32cd",
   "metadata": {},
   "outputs": [
    {
     "data": {
      "text/plain": [
       "6"
      ]
     },
     "execution_count": 24,
     "metadata": {},
     "output_type": "execute_result"
    }
   ],
   "source": [
    "a.size"
   ]
  },
  {
   "cell_type": "code",
   "execution_count": null,
   "id": "1d955a44-2195-40e3-9e41-b1740339d407",
   "metadata": {},
   "outputs": [],
   "source": [
    "(3). eye()==> in this function diagonalpositional elements are 1 and rest all zero."
   ]
  },
  {
   "cell_type": "code",
   "execution_count": 25,
   "id": "effd8351-e36e-400b-adf1-fb8c70ff29f5",
   "metadata": {},
   "outputs": [
    {
     "data": {
      "text/plain": [
       "array([[1., 0., 0., 0.],\n",
       "       [0., 1., 0., 0.],\n",
       "       [0., 0., 1., 0.],\n",
       "       [0., 0., 0., 1.]])"
      ]
     },
     "execution_count": 25,
     "metadata": {},
     "output_type": "execute_result"
    }
   ],
   "source": [
    "a = np.eye(4)    ####Symmatric Matrix \n",
    "a"
   ]
  },
  {
   "cell_type": "code",
   "execution_count": 26,
   "id": "740fa520-78e6-46d8-9d45-3bf4694dbd05",
   "metadata": {},
   "outputs": [
    {
     "data": {
      "text/plain": [
       "array([[1., 0., 0., 0.],\n",
       "       [0., 1., 0., 0.],\n",
       "       [0., 0., 1., 0.]])"
      ]
     },
     "execution_count": 26,
     "metadata": {},
     "output_type": "execute_result"
    }
   ],
   "source": [
    "a = np.eye(3,4)  ####Asymmatric Matrix \n",
    "a"
   ]
  },
  {
   "cell_type": "code",
   "execution_count": null,
   "id": "4c335fcc-866f-4191-b069-16145a7a4901",
   "metadata": {},
   "outputs": [],
   "source": [
    "4. daig==> this function create a two dimensinal array with all the daigonal elements as the given value and rest zero.\n"
   ]
  },
  {
   "cell_type": "code",
   "execution_count": 21,
   "id": "2d93c9b4-944f-4561-8684-c225f3dbe872",
   "metadata": {},
   "outputs": [
    {
     "data": {
      "text/plain": [
       "array([[1, 0, 0, 0],\n",
       "       [0, 4, 0, 0],\n",
       "       [0, 0, 8, 0],\n",
       "       [0, 0, 0, 9]])"
      ]
     },
     "execution_count": 21,
     "metadata": {},
     "output_type": "execute_result"
    }
   ],
   "source": [
    "import numpy as np\n",
    "a = np.diag([1,4,8,9])\n",
    "a"
   ]
  },
  {
   "cell_type": "code",
   "execution_count": null,
   "id": "4114dcfe-8724-4edd-a160-c65c3df9849c",
   "metadata": {},
   "outputs": [],
   "source": [
    "5. randint==> this function is used to generate a random number between a given range .\n",
    "syntax  == randint(min_value , max_value , total_numbers) "
   ]
  },
  {
   "cell_type": "code",
   "execution_count": 22,
   "id": "4967174b-f7b0-4fe0-8ffd-d04b6952ad9f",
   "metadata": {},
   "outputs": [
    {
     "data": {
      "text/plain": [
       "array([2, 4, 7])"
      ]
     },
     "execution_count": 22,
     "metadata": {},
     "output_type": "execute_result"
    }
   ],
   "source": [
    "import numpy as np \n",
    "a = np.random.randint(1,10,3) \n",
    "a"
   ]
  },
  {
   "cell_type": "code",
   "execution_count": null,
   "id": "8908e222-b98e-46b9-bb17-2668c7e0dd9b",
   "metadata": {},
   "outputs": [],
   "source": [
    "6.rand==>this function is used to generate a random number betweenn 0 to 1.\n",
    "syntax == rand(number of values)"
   ]
  },
  {
   "cell_type": "code",
   "execution_count": 23,
   "id": "4f089006-f0c2-4916-b8aa-ade40b73a8b3",
   "metadata": {},
   "outputs": [
    {
     "data": {
      "text/plain": [
       "array([0.05028956, 0.80430918, 0.34141013, 0.32281872, 0.37636155])"
      ]
     },
     "execution_count": 23,
     "metadata": {},
     "output_type": "execute_result"
    }
   ],
   "source": [
    "import numpy as np \n",
    "\n",
    "a = np.random.rand(5) \n",
    "a"
   ]
  },
  {
   "cell_type": "code",
   "execution_count": null,
   "id": "8e68b3d7-1989-4205-934a-8ffbff6e7b18",
   "metadata": {},
   "outputs": [],
   "source": [
    "7. randn()==> this function is used to generate a random number from -3 to close 3. this may return positive or negative numbers as well.\n",
    "syntax == random.randn(number of values) "
   ]
  },
  {
   "cell_type": "code",
   "execution_count": 24,
   "id": "5d4cb00e-93f8-4a09-9bac-9722b596f2d3",
   "metadata": {},
   "outputs": [
    {
     "data": {
      "text/plain": [
       "array([-1.16322954,  1.141769  ,  0.78130091, -1.05502703,  1.52140958])"
      ]
     },
     "execution_count": 24,
     "metadata": {},
     "output_type": "execute_result"
    }
   ],
   "source": [
    "import numpy as np \n",
    "a = np.random.randn(5) \n",
    "a"
   ]
  },
  {
   "cell_type": "code",
   "execution_count": 10,
   "id": "25e3df50-42b0-4ec7-a7d2-a38975f1c616",
   "metadata": {},
   "outputs": [],
   "source": [
    "#reshaping data "
   ]
  },
  {
   "cell_type": "code",
   "execution_count": 25,
   "id": "f2b07c9f-961d-49d4-8654-284a6c0b201c",
   "metadata": {},
   "outputs": [
    {
     "data": {
      "text/plain": [
       "array([16, 30, 11, 30,  5, 22, 41, 45,  3, 31, 40, 38])"
      ]
     },
     "execution_count": 25,
     "metadata": {},
     "output_type": "execute_result"
    }
   ],
   "source": [
    "import numpy as np \n",
    "\n",
    "a = np.random.randint(1,50,12) \n",
    "a"
   ]
  },
  {
   "cell_type": "code",
   "execution_count": 13,
   "id": "ca27f1a2-7b3b-4bfa-9130-5617d86d3cca",
   "metadata": {},
   "outputs": [],
   "source": [
    "#n(rows)* n(columns)=n(total_elements)"
   ]
  },
  {
   "cell_type": "code",
   "execution_count": 26,
   "id": "2e25e900-81fe-4177-b680-f962937eabd9",
   "metadata": {},
   "outputs": [
    {
     "data": {
      "text/plain": [
       "(12,)"
      ]
     },
     "execution_count": 26,
     "metadata": {},
     "output_type": "execute_result"
    }
   ],
   "source": [
    "a.shape "
   ]
  },
  {
   "cell_type": "code",
   "execution_count": 27,
   "id": "bc613952-a51b-42f6-9d83-ffb6952e93f7",
   "metadata": {},
   "outputs": [
    {
     "data": {
      "text/plain": [
       "array([[16, 30, 11, 30,  5, 22],\n",
       "       [41, 45,  3, 31, 40, 38]])"
      ]
     },
     "execution_count": 27,
     "metadata": {},
     "output_type": "execute_result"
    }
   ],
   "source": [
    "a = a.reshape(2,6) \n",
    "a"
   ]
  },
  {
   "cell_type": "code",
   "execution_count": 28,
   "id": "3f9ea6e7-bd4c-4b6c-bdd2-066ccc53eb32",
   "metadata": {},
   "outputs": [
    {
     "data": {
      "text/plain": [
       "array([[16, 30],\n",
       "       [11, 30],\n",
       "       [ 5, 22],\n",
       "       [41, 45],\n",
       "       [ 3, 31],\n",
       "       [40, 38]])"
      ]
     },
     "execution_count": 28,
     "metadata": {},
     "output_type": "execute_result"
    }
   ],
   "source": [
    "a = a.reshape(6,2) \n",
    "a"
   ]
  },
  {
   "cell_type": "code",
   "execution_count": 29,
   "id": "951a6ee1-9392-4b83-8828-750cd69ca8a8",
   "metadata": {},
   "outputs": [
    {
     "data": {
      "text/plain": [
       "array([[16, 30, 11, 30],\n",
       "       [ 5, 22, 41, 45],\n",
       "       [ 3, 31, 40, 38]])"
      ]
     },
     "execution_count": 29,
     "metadata": {},
     "output_type": "execute_result"
    }
   ],
   "source": [
    "a = a.reshape(3,4) \n",
    "a"
   ]
  },
  {
   "cell_type": "code",
   "execution_count": 30,
   "id": "8c88de13-c0ad-443e-b2b7-b75b825d166d",
   "metadata": {},
   "outputs": [
    {
     "data": {
      "text/plain": [
       "array([[16, 30, 11],\n",
       "       [30,  5, 22],\n",
       "       [41, 45,  3],\n",
       "       [31, 40, 38]])"
      ]
     },
     "execution_count": 30,
     "metadata": {},
     "output_type": "execute_result"
    }
   ],
   "source": [
    "a = a.reshape(4,3) \n",
    "a"
   ]
  },
  {
   "cell_type": "code",
   "execution_count": 31,
   "id": "48389515-2d5a-4acd-b68e-dc9fd78dab87",
   "metadata": {},
   "outputs": [
    {
     "data": {
      "text/plain": [
       "array([[16],\n",
       "       [30],\n",
       "       [11],\n",
       "       [30],\n",
       "       [ 5],\n",
       "       [22],\n",
       "       [41],\n",
       "       [45],\n",
       "       [ 3],\n",
       "       [31],\n",
       "       [40],\n",
       "       [38]])"
      ]
     },
     "execution_count": 31,
     "metadata": {},
     "output_type": "execute_result"
    }
   ],
   "source": [
    "a = a.reshape(12,1) \n",
    "a"
   ]
  },
  {
   "cell_type": "code",
   "execution_count": 16,
   "id": "07c31e54-bd7c-476d-8ce1-5920ae335b3d",
   "metadata": {},
   "outputs": [],
   "source": [
    "# principal of -1"
   ]
  },
  {
   "cell_type": "code",
   "execution_count": 32,
   "id": "c06b5e09-e00a-4138-8190-feee9ed18a0c",
   "metadata": {},
   "outputs": [
    {
     "data": {
      "text/plain": [
       "array([[16, 30, 11, 30],\n",
       "       [ 5, 22, 41, 45],\n",
       "       [ 3, 31, 40, 38]])"
      ]
     },
     "execution_count": 32,
     "metadata": {},
     "output_type": "execute_result"
    }
   ],
   "source": [
    "a= a.reshape(-1 , 4)\n",
    "a"
   ]
  },
  {
   "cell_type": "code",
   "execution_count": null,
   "id": "b4bcef99-43e2-48b6-85b9-3623e3e43728",
   "metadata": {},
   "outputs": [],
   "source": [
    "# Seed Function ()  ==> We know that randint function generates random numbers . Everytime we run the program  , new set of random number is generated . So , solve this problem we will use seed function . "
   ]
  },
  {
   "cell_type": "code",
   "execution_count": 33,
   "id": "8be031f3-d406-416e-9530-4a8c467ee4fa",
   "metadata": {},
   "outputs": [
    {
     "data": {
      "text/plain": [
       "array([79, 62, 17, 74,  9, 63, 28, 31, 81,  8])"
      ]
     },
     "execution_count": 33,
     "metadata": {},
     "output_type": "execute_result"
    }
   ],
   "source": [
    "import numpy as np \n",
    "\n",
    "np.random.seed(5) \n",
    "a = np.random.randint(1,100 , 10) \n",
    "a"
   ]
  },
  {
   "cell_type": "code",
   "execution_count": 34,
   "id": "e39d4d68-7b4a-47bf-9af7-dd115828391c",
   "metadata": {},
   "outputs": [
    {
     "data": {
      "text/plain": [
       "array([[205, 400, 114, 438, 488],\n",
       "       [ 81,  28,  45, 206, 204],\n",
       "       [ 66, 432,  31, 469,  87],\n",
       "       [126, 147, 255, 378, 138],\n",
       "       [363,  42, 490, 447, 386],\n",
       "       [211, 104, 145, 463,   6]])"
      ]
     },
     "execution_count": 34,
     "metadata": {},
     "output_type": "execute_result"
    }
   ],
   "source": [
    "#### np.random.seed(111) \n",
    "a = np.random.randint(1,500,30).reshape(6,5) \n",
    "a"
   ]
  },
  {
   "cell_type": "code",
   "execution_count": null,
   "id": "6e92023b-a774-474e-8b2f-89ab360d06d4",
   "metadata": {},
   "outputs": [],
   "source": [
    "# View Vs Copy ==> When we slice a sub-array from an array , it may be done by two ways . "
   ]
  },
  {
   "cell_type": "code",
   "execution_count": 35,
   "id": "13b3d939-2a7d-484e-b257-229f371b1ba5",
   "metadata": {},
   "outputs": [
    {
     "data": {
      "text/plain": [
       "array([10, 20, 30,  0,  0,  0, 70, 80])"
      ]
     },
     "execution_count": 35,
     "metadata": {},
     "output_type": "execute_result"
    }
   ],
   "source": [
    "import numpy as np \n",
    "a = np.array([10 , 20 , 30 , 40 , 50 , 60 , 70 , 80 ])\n",
    "b = a[3:6] \n",
    "b[:] = 0 \n",
    "a"
   ]
  },
  {
   "cell_type": "code",
   "execution_count": null,
   "id": "5b7a99cf-9d30-4657-8e77-ef5a83996cf8",
   "metadata": {},
   "outputs": [],
   "source": [
    "# copy "
   ]
  },
  {
   "cell_type": "code",
   "execution_count": 36,
   "id": "42b5d079-5864-45d1-bb4d-3ab3e71ecbd2",
   "metadata": {},
   "outputs": [
    {
     "data": {
      "text/plain": [
       "array([10, 20, 30, 40, 50, 60, 70, 80])"
      ]
     },
     "execution_count": 36,
     "metadata": {},
     "output_type": "execute_result"
    }
   ],
   "source": [
    "a = np.array([10 , 20 , 30 , 40 , 50 , 60 , 70 , 80 ])\n",
    "b = a[3:6].copy() \n",
    "b[:] = 0 \n",
    "a"
   ]
  },
  {
   "cell_type": "code",
   "execution_count": 37,
   "id": "44edd74a-5fa3-4677-a3b8-5126fc933575",
   "metadata": {},
   "outputs": [
    {
     "data": {
      "text/plain": [
       "array([0, 0, 0])"
      ]
     },
     "execution_count": 37,
     "metadata": {},
     "output_type": "execute_result"
    }
   ],
   "source": [
    "b"
   ]
  },
  {
   "cell_type": "code",
   "execution_count": null,
   "id": "08c1eff7-ceae-4f6a-93ec-6f7d6e6ff903",
   "metadata": {},
   "outputs": [],
   "source": [
    "condition selection "
   ]
  },
  {
   "cell_type": "code",
   "execution_count": 38,
   "id": "1af9416f-9a29-4ef3-a4f5-53fe20958f82",
   "metadata": {},
   "outputs": [
    {
     "data": {
      "text/plain": [
       "array([ 1,  2,  3,  4,  5,  6,  7,  8,  9, 10, 11, 12, 13, 14, 15])"
      ]
     },
     "execution_count": 38,
     "metadata": {},
     "output_type": "execute_result"
    }
   ],
   "source": [
    "import numpy as np \n",
    "a = np.arange(1,16) \n",
    "a"
   ]
  },
  {
   "cell_type": "code",
   "execution_count": 39,
   "id": "7d3b91cc-857e-4e04-b38b-2eaf2cb48d8e",
   "metadata": {},
   "outputs": [
    {
     "data": {
      "text/plain": [
       "array([False, False, False, False, False, False, False, False, False,\n",
       "       False,  True,  True,  True,  True,  True])"
      ]
     },
     "execution_count": 39,
     "metadata": {},
     "output_type": "execute_result"
    }
   ],
   "source": [
    "a>10"
   ]
  },
  {
   "cell_type": "code",
   "execution_count": 40,
   "id": "1a17a7b8-c6ce-4acb-a92e-c2857bb7e81c",
   "metadata": {},
   "outputs": [
    {
     "data": {
      "text/plain": [
       "array([ True,  True,  True,  True,  True,  True,  True,  True,  True,\n",
       "       False, False, False, False, False, False])"
      ]
     },
     "execution_count": 40,
     "metadata": {},
     "output_type": "execute_result"
    }
   ],
   "source": [
    "a<10"
   ]
  },
  {
   "cell_type": "code",
   "execution_count": 41,
   "id": "e39c5b82-a131-45fd-a632-8f7fa2d9b35f",
   "metadata": {},
   "outputs": [
    {
     "data": {
      "text/plain": [
       "array([11, 12, 13, 14, 15])"
      ]
     },
     "execution_count": 41,
     "metadata": {},
     "output_type": "execute_result"
    }
   ],
   "source": [
    "b = a>10 \n",
    "a[b]"
   ]
  },
  {
   "cell_type": "code",
   "execution_count": 42,
   "id": "c66af551-024a-411b-9d38-daaf8ee72d1e",
   "metadata": {},
   "outputs": [
    {
     "data": {
      "text/plain": [
       "array([ 2,  4,  6,  8, 10, 12, 14])"
      ]
     },
     "execution_count": 42,
     "metadata": {},
     "output_type": "execute_result"
    }
   ],
   "source": [
    "a[a%2 == 0]"
   ]
  },
  {
   "cell_type": "code",
   "execution_count": null,
   "id": "ae713908-4d3a-4e67-9bbd-9196c5eab158",
   "metadata": {},
   "outputs": [],
   "source": [
    "operations on array "
   ]
  },
  {
   "cell_type": "code",
   "execution_count": 43,
   "id": "12f5c3dc-9c32-4097-b8db-7d168be973d3",
   "metadata": {},
   "outputs": [
    {
     "data": {
      "text/plain": [
       "array([2, 4, 6, 8])"
      ]
     },
     "execution_count": 43,
     "metadata": {},
     "output_type": "execute_result"
    }
   ],
   "source": [
    "import numpy as np \n",
    "a = np.arange(1,5) \n",
    "a*2"
   ]
  },
  {
   "cell_type": "code",
   "execution_count": 44,
   "id": "986cbc75-6498-430c-b0c9-700e3f852099",
   "metadata": {},
   "outputs": [
    {
     "data": {
      "text/plain": [
       "array([3, 4, 5, 6])"
      ]
     },
     "execution_count": 44,
     "metadata": {},
     "output_type": "execute_result"
    }
   ],
   "source": [
    "a+2 "
   ]
  },
  {
   "cell_type": "code",
   "execution_count": 45,
   "id": "b6b7882c-0e1f-4f07-a885-b57e6781d2bf",
   "metadata": {},
   "outputs": [
    {
     "data": {
      "text/plain": [
       "array([ 1,  4,  9, 16])"
      ]
     },
     "execution_count": 45,
     "metadata": {},
     "output_type": "execute_result"
    }
   ],
   "source": [
    "a**2"
   ]
  },
  {
   "cell_type": "code",
   "execution_count": 46,
   "id": "fd9726a1-4710-4546-a35d-a0e39bec05af",
   "metadata": {},
   "outputs": [
    {
     "data": {
      "text/plain": [
       "array([[1, 2],\n",
       "       [3, 4]])"
      ]
     },
     "execution_count": 46,
     "metadata": {},
     "output_type": "execute_result"
    }
   ],
   "source": [
    "a  = np.array([1,2,3,4]).reshape(2,2)\n",
    "a"
   ]
  },
  {
   "cell_type": "code",
   "execution_count": 47,
   "id": "2d655c55-6451-4ef4-ad8e-ec5a6c19f4ed",
   "metadata": {},
   "outputs": [
    {
     "data": {
      "text/plain": [
       "array([[5, 6],\n",
       "       [7, 8]])"
      ]
     },
     "execution_count": 47,
     "metadata": {},
     "output_type": "execute_result"
    }
   ],
   "source": [
    "b = np.array([5,6,7,8]).reshape(2,2) \n",
    "b"
   ]
  },
  {
   "cell_type": "code",
   "execution_count": 48,
   "id": "3cde080f-cc04-4cfb-9126-0e40d6fd295b",
   "metadata": {},
   "outputs": [
    {
     "data": {
      "text/plain": [
       "array([[ 6,  8],\n",
       "       [10, 12]])"
      ]
     },
     "execution_count": 48,
     "metadata": {},
     "output_type": "execute_result"
    }
   ],
   "source": [
    "a+b "
   ]
  },
  {
   "cell_type": "code",
   "execution_count": 49,
   "id": "faf7e3c8-f724-4123-bf5b-552cd2b22277",
   "metadata": {},
   "outputs": [
    {
     "data": {
      "text/plain": [
       "array([[4, 4],\n",
       "       [4, 4]])"
      ]
     },
     "execution_count": 49,
     "metadata": {},
     "output_type": "execute_result"
    }
   ],
   "source": [
    "b-a"
   ]
  },
  {
   "cell_type": "code",
   "execution_count": 52,
   "id": "15e4f9d5-4363-4cb1-9e49-9e0d3fa0d46a",
   "metadata": {},
   "outputs": [
    {
     "data": {
      "text/plain": [
       "array([[5.        , 3.        ],\n",
       "       [2.33333333, 2.        ]])"
      ]
     },
     "execution_count": 52,
     "metadata": {},
     "output_type": "execute_result"
    }
   ],
   "source": [
    "b/a"
   ]
  },
  {
   "cell_type": "code",
   "execution_count": 51,
   "id": "c2e38b27-c918-45cc-81f7-7a8631a410b7",
   "metadata": {},
   "outputs": [
    {
     "data": {
      "text/plain": [
       "array([[ 5, 12],\n",
       "       [21, 32]])"
      ]
     },
     "execution_count": 51,
     "metadata": {},
     "output_type": "execute_result"
    }
   ],
   "source": [
    "a*b"
   ]
  },
  {
   "cell_type": "code",
   "execution_count": 53,
   "id": "8e8f35a4-c33b-41c0-b0dc-eb50bf30b4fd",
   "metadata": {},
   "outputs": [
    {
     "data": {
      "text/plain": [
       "array([[19, 22],\n",
       "       [43, 50]])"
      ]
     },
     "execution_count": 53,
     "metadata": {},
     "output_type": "execute_result"
    }
   ],
   "source": [
    "a.dot(b)"
   ]
  },
  {
   "cell_type": "code",
   "execution_count": null,
   "id": "1165d9d4-bd96-45e2-a715-ebf8c380d6a3",
   "metadata": {},
   "outputs": [],
   "source": [
    "some more important numpy functions"
   ]
  },
  {
   "cell_type": "code",
   "execution_count": 54,
   "id": "732cf6e1-2501-4a21-a7bd-d4295f250233",
   "metadata": {},
   "outputs": [
    {
     "data": {
      "text/plain": [
       "10"
      ]
     },
     "execution_count": 54,
     "metadata": {},
     "output_type": "execute_result"
    }
   ],
   "source": [
    "import  numpy as np \n",
    "a = np.array([10,20,30,40,50]) \n",
    "np.min(a) "
   ]
  },
  {
   "cell_type": "code",
   "execution_count": 55,
   "id": "956c23dc-c668-4fd1-bf38-00b90b072e45",
   "metadata": {},
   "outputs": [
    {
     "data": {
      "text/plain": [
       "50"
      ]
     },
     "execution_count": 55,
     "metadata": {},
     "output_type": "execute_result"
    }
   ],
   "source": [
    "np.max(a)   #it will return maximum value of the array "
   ]
  },
  {
   "cell_type": "code",
   "execution_count": 56,
   "id": "0376e50b-8bcd-4cfe-bb7c-b3f1cac56e5c",
   "metadata": {},
   "outputs": [
    {
     "data": {
      "text/plain": [
       "0"
      ]
     },
     "execution_count": 56,
     "metadata": {},
     "output_type": "execute_result"
    }
   ],
   "source": [
    "np.argmin(a)  #it will return indexing of minimum value"
   ]
  },
  {
   "cell_type": "code",
   "execution_count": 57,
   "id": "77dd9a42-39e1-43af-9d17-b07ad962b722",
   "metadata": {},
   "outputs": [
    {
     "data": {
      "text/plain": [
       "4"
      ]
     },
     "execution_count": 57,
     "metadata": {},
     "output_type": "execute_result"
    }
   ],
   "source": [
    "np.argmax(a)   # it will return indexing of maximum value "
   ]
  },
  {
   "cell_type": "code",
   "execution_count": 72,
   "id": "e2d67b77-7ff8-4e1d-ba9a-6938c43b5778",
   "metadata": {},
   "outputs": [
    {
     "data": {
      "text/plain": [
       "array([1.        , 1.41421356, 1.73205081, 2.        ])"
      ]
     },
     "execution_count": 72,
     "metadata": {},
     "output_type": "execute_result"
    }
   ],
   "source": [
    "np.sqrt(a)"
   ]
  },
  {
   "cell_type": "code",
   "execution_count": 58,
   "id": "c78d69ef-00da-4ea4-8893-e33ac09682e6",
   "metadata": {},
   "outputs": [
    {
     "data": {
      "text/plain": [
       "array([-0.54402111,  0.91294525, -0.98803162,  0.74511316, -0.26237485])"
      ]
     },
     "execution_count": 58,
     "metadata": {},
     "output_type": "execute_result"
    }
   ],
   "source": [
    "np.sin(a)"
   ]
  },
  {
   "cell_type": "code",
   "execution_count": null,
   "id": "e6936c56-1044-4bdb-b02d-078822f07edd",
   "metadata": {},
   "outputs": [],
   "source": [
    "linspace()==> this function returns value between a given range and with a same gap between consicutive elements."
   ]
  },
  {
   "cell_type": "code",
   "execution_count": 59,
   "id": "302b7d84-aeca-42db-88cd-def0d9d00989",
   "metadata": {},
   "outputs": [
    {
     "data": {
      "text/plain": [
       "array([1.  , 1.25, 1.5 , 1.75, 2.  ])"
      ]
     },
     "execution_count": 59,
     "metadata": {},
     "output_type": "execute_result"
    }
   ],
   "source": [
    "import numpy as np \n",
    "\n",
    "a = np.linspace(1,2,5) \n",
    "a"
   ]
  },
  {
   "cell_type": "code",
   "execution_count": 60,
   "id": "d10f1c8b-b9e9-4f18-b194-5421c8533d9e",
   "metadata": {},
   "outputs": [
    {
     "data": {
      "text/plain": [
       "array([[16, 11, 13],\n",
       "       [17, 13, 16],\n",
       "       [ 3, 16, 11]])"
      ]
     },
     "execution_count": 60,
     "metadata": {},
     "output_type": "execute_result"
    }
   ],
   "source": [
    "import numpy as np \n",
    "\n",
    "np.random.seed(122) \n",
    "a = np.random.randint(1,21,9).reshape(3,3) \n",
    "a"
   ]
  },
  {
   "cell_type": "code",
   "execution_count": 61,
   "id": "ea6b2ff3-00d5-464e-8c69-8334eefa2cdd",
   "metadata": {},
   "outputs": [
    {
     "data": {
      "text/plain": [
       "116"
      ]
     },
     "execution_count": 61,
     "metadata": {},
     "output_type": "execute_result"
    }
   ],
   "source": [
    "np.sum(a) "
   ]
  },
  {
   "cell_type": "code",
   "execution_count": 62,
   "id": "6d7e4471-3593-4b01-9ff2-876750ab005e",
   "metadata": {},
   "outputs": [
    {
     "data": {
      "text/plain": [
       "array([40, 46, 30])"
      ]
     },
     "execution_count": 62,
     "metadata": {},
     "output_type": "execute_result"
    }
   ],
   "source": [
    "np.sum(a , axis = 1) "
   ]
  },
  {
   "cell_type": "code",
   "execution_count": 63,
   "id": "9fcb8c11-f6f2-4659-a64f-1dd81761f156",
   "metadata": {},
   "outputs": [
    {
     "data": {
      "text/plain": [
       "3"
      ]
     },
     "execution_count": 63,
     "metadata": {},
     "output_type": "execute_result"
    }
   ],
   "source": [
    "np.min(a) "
   ]
  },
  {
   "cell_type": "code",
   "execution_count": 64,
   "id": "e1a91164-f1b3-4470-af91-5075e15b2c0f",
   "metadata": {},
   "outputs": [
    {
     "data": {
      "text/plain": [
       "17"
      ]
     },
     "execution_count": 64,
     "metadata": {},
     "output_type": "execute_result"
    }
   ],
   "source": [
    "np.max(a) "
   ]
  },
  {
   "cell_type": "code",
   "execution_count": 65,
   "id": "10030013-7946-4d12-b780-70e415aa9437",
   "metadata": {},
   "outputs": [
    {
     "data": {
      "text/plain": [
       "array([ 16,  27,  40,  57,  70,  86,  89, 105, 116])"
      ]
     },
     "execution_count": 65,
     "metadata": {},
     "output_type": "execute_result"
    }
   ],
   "source": [
    "np.cumsum(a)"
   ]
  },
  {
   "cell_type": "code",
   "execution_count": 66,
   "id": "d28d3ed5-d6de-4673-811d-bb80e6771ad3",
   "metadata": {},
   "outputs": [
    {
     "data": {
      "text/plain": [
       "array([[16, 11, 13],\n",
       "       [17, 13, 16],\n",
       "       [ 3, 16, 11]])"
      ]
     },
     "execution_count": 66,
     "metadata": {},
     "output_type": "execute_result"
    }
   ],
   "source": [
    "a"
   ]
  },
  {
   "cell_type": "code",
   "execution_count": null,
   "id": "73538c6d-786e-4a8d-ab87-cb41373767e4",
   "metadata": {},
   "outputs": [],
   "source": [
    " np.unique(arr , return_index = True , return_counts = True) \n",
    "\n",
    "returns 3 array . \n",
    "1 . the array with unique values . \n",
    "2 . the array with respective index value . \n",
    "3 . the array with counting of frequencey . "
   ]
  },
  {
   "cell_type": "code",
   "execution_count": 67,
   "id": "448a859d-1984-49c1-af4f-d085f07abf91",
   "metadata": {},
   "outputs": [
    {
     "data": {
      "text/plain": [
       "(array([10, 20, 30, 40, 50]),\n",
       " array([0, 1, 2, 3, 6], dtype=int64),\n",
       " array([2, 2, 1, 1, 1], dtype=int64))"
      ]
     },
     "execution_count": 67,
     "metadata": {},
     "output_type": "execute_result"
    }
   ],
   "source": [
    "a = np.array([10,20,30,40,10,20,50]) \n",
    "np.unique(a , return_index  = True , return_counts = True) \n"
   ]
  },
  {
   "cell_type": "code",
   "execution_count": null,
   "id": "817fdeaf-697b-4621-a478-291215d073cf",
   "metadata": {},
   "outputs": [],
   "source": [
    "# horizontal and vertical stacking"
   ]
  },
  {
   "cell_type": "code",
   "execution_count": 68,
   "id": "0cea00a0-88ad-4d4d-be14-c305e800d099",
   "metadata": {},
   "outputs": [
    {
     "data": {
      "text/plain": [
       "array([1, 2, 3, 4])"
      ]
     },
     "execution_count": 68,
     "metadata": {},
     "output_type": "execute_result"
    }
   ],
   "source": [
    "\n",
    "a = np.array([1,2,3,4]) \n",
    "b = np.array([5,6,7,8]) \n",
    "a"
   ]
  },
  {
   "cell_type": "code",
   "execution_count": 69,
   "id": "22c9acad-bd8f-4757-b8b4-28daa4c32563",
   "metadata": {},
   "outputs": [
    {
     "data": {
      "text/plain": [
       "array([5, 6, 7, 8])"
      ]
     },
     "execution_count": 69,
     "metadata": {},
     "output_type": "execute_result"
    }
   ],
   "source": [
    "b"
   ]
  },
  {
   "cell_type": "code",
   "execution_count": 70,
   "id": "3ab2fb4d-f759-4e36-89a7-c71844cb135f",
   "metadata": {},
   "outputs": [
    {
     "data": {
      "text/plain": [
       "array([1, 2, 3, 4, 5, 6, 7, 8])"
      ]
     },
     "execution_count": 70,
     "metadata": {},
     "output_type": "execute_result"
    }
   ],
   "source": [
    "np.hstack((a,b))"
   ]
  },
  {
   "cell_type": "code",
   "execution_count": 71,
   "id": "34a523aa-2772-4822-8c8e-1e4649a8df08",
   "metadata": {},
   "outputs": [
    {
     "data": {
      "text/plain": [
       "array([[1, 2, 3, 4],\n",
       "       [5, 6, 7, 8]])"
      ]
     },
     "execution_count": 71,
     "metadata": {},
     "output_type": "execute_result"
    }
   ],
   "source": [
    "np.vstack((a,b))"
   ]
  },
  {
   "cell_type": "code",
   "execution_count": null,
   "id": "1fa23f53-e861-4f73-b6f8-07c9c9819c95",
   "metadata": {},
   "outputs": [],
   "source": []
  }
 ],
 "metadata": {
  "kernelspec": {
   "display_name": "Python 3 (ipykernel)",
   "language": "python",
   "name": "python3"
  },
  "language_info": {
   "codemirror_mode": {
    "name": "ipython",
    "version": 3
   },
   "file_extension": ".py",
   "mimetype": "text/x-python",
   "name": "python",
   "nbconvert_exporter": "python",
   "pygments_lexer": "ipython3",
   "version": "3.11.7"
  }
 },
 "nbformat": 4,
 "nbformat_minor": 5
}
