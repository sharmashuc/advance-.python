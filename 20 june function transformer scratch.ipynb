{
 "cells": [
  {
   "cell_type": "markdown",
   "id": "91a48f73-1912-4269-9bed-bf3b580e51ac",
   "metadata": {},
   "source": [
    "# What is function transformer . \n",
    "\n",
    "# The function transformer is a tool in scikit-learn , a popular python library for machine learning , that allows you to apply a specified function to the input data. The Function Transformer can be useful for performing custom transformations of input data in a machine pipeline. "
   ]
  },
  {
   "cell_type": "code",
   "execution_count": 4,
   "id": "1562ee8f-9aa7-44cd-867e-02feae51b672",
   "metadata": {},
   "outputs": [
    {
     "name": "stdout",
     "output_type": "stream",
     "text": [
      "[[0.69314718 1.09861229]\n",
      " [1.38629436 1.60943791]]\n"
     ]
    }
   ],
   "source": [
    "from sklearn.preprocessing import FunctionTransformer\n",
    "import numpy as np\n",
    "\n",
    "# create a dataset\n",
    "x = np.array([[1,2], [3,4]])\n",
    "\n",
    "# definer the transformation function\n",
    "log_transform = FunctionTransformer(np.log1p)\n",
    "\n",
    "# apply the transformation to the dataset \n",
    "x_transformed = log_transform.transform(x)\n",
    "\n",
    "# view the transformed data\n",
    "print(x_transformed)"
   ]
  },
  {
   "cell_type": "code",
   "execution_count": 5,
   "id": "2d9a8e58-01f9-44b5-972e-b11b331571ee",
   "metadata": {},
   "outputs": [
    {
     "name": "stdout",
     "output_type": "stream",
     "text": [
      "[[ 1  2  1  4]\n",
      " [ 3  4  9 16]]\n"
     ]
    }
   ],
   "source": [
    "# Pratical usecases \n",
    "\n",
    "# 1. custom feature Engineering \n",
    "from sklearn.preprocessing import FunctionTransformer \n",
    "import numpy as np\n",
    "\n",
    "# create a dataset \n",
    "x= np.array([[1,2],[3,4]])\n",
    "\n",
    "# define a custom feature engineering function \n",
    "def my_feature_engineering(x):\n",
    "    return np.hstack((x,x**2))\n",
    "\n",
    "# create a functiontransformer to apply the custom function \n",
    "custom_transformer = FunctionTransformer(my_feature_engineering)\n",
    "\n",
    "# apply the transformer to the input data\n",
    "x_transformed = custom_transformer.transform(x)\n",
    "\n",
    "# view the transformed data\n",
    "print(x_transformed)"
   ]
  },
  {
   "cell_type": "code",
   "execution_count": 7,
   "id": "5192addf-a943-4aa5-ab45-614132f176af",
   "metadata": {},
   "outputs": [
    {
     "name": "stdout",
     "output_type": "stream",
     "text": [
      "[[0.25 0.5 ]\n",
      " [0.75 1.  ]]\n"
     ]
    }
   ],
   "source": [
    "# 2. Scaling And Normalization \n",
    "\n",
    "from sklearn.preprocessing import FunctionTransformer\n",
    "import numpy as np\n",
    "\n",
    "# create a dataset \n",
    "X = np.array([[1,2],[3,4]])\n",
    "\n",
    "# define a custom scalling function\n",
    "def my_scalling(x):\n",
    "    return X/ np.max(x)\n",
    "\n",
    "# create a function transformer to apply the custom function \n",
    "custom_transformer = FunctionTransformer(my_scalling)\n",
    "\n",
    "# apply the transformer to the input data\n",
    "X_transformed = custom_transformer.transform(x)\n",
    "\n",
    "# view the transform data\n",
    "print(X_transformed)"
   ]
  },
  {
   "cell_type": "code",
   "execution_count": 8,
   "id": "59b56594-a553-4d09-a26e-ab9b38575d37",
   "metadata": {},
   "outputs": [
    {
     "name": "stdout",
     "output_type": "stream",
     "text": [
      "[[1. 2.]\n",
      " [3. 0.]]\n"
     ]
    }
   ],
   "source": [
    "# 3. Data Cleaning \n",
    "from sklearn.preprocessing import FunctionTransformer\n",
    "import numpy as np\n",
    "\n",
    "# create a dataset with missing values\n",
    "X = np.array([[1,2], [3,np.nan]])\n",
    "\n",
    "# define a custom cleanng function \n",
    "def my_cleaning(X):\n",
    "    X[np.isnan(X)] = 0\n",
    "    return X\n",
    "\n",
    "# create a function transformer to apply the custom function\n",
    "custom_transformer = FunctionTransformer(my_cleaning)\n",
    "\n",
    "# apply the transformert to the input data\n",
    "X_transformed = custom_transformer.transform(X)\n",
    "\n",
    "# view the transform data\n",
    "print(X_transformed)"
   ]
  },
  {
   "cell_type": "code",
   "execution_count": 1,
   "id": "a01fbb8a-09bf-423b-9d3c-f4442d087fb5",
   "metadata": {},
   "outputs": [],
   "source": [
    "# 4. Dimensionality reduction \n",
    "\n",
    "\n"
   ]
  },
  {
   "cell_type": "code",
   "execution_count": null,
   "id": "fb30e42f-5a1c-42ff-922e-d02869d264b8",
   "metadata": {},
   "outputs": [],
   "source": []
  }
 ],
 "metadata": {
  "kernelspec": {
   "display_name": "Python 3 (ipykernel)",
   "language": "python",
   "name": "python3"
  },
  "language_info": {
   "codemirror_mode": {
    "name": "ipython",
    "version": 3
   },
   "file_extension": ".py",
   "mimetype": "text/x-python",
   "name": "python",
   "nbconvert_exporter": "python",
   "pygments_lexer": "ipython3",
   "version": "3.11.7"
  }
 },
 "nbformat": 4,
 "nbformat_minor": 5
}
