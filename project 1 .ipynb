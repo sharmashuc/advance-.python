{
 "cells": [
  {
   "cell_type": "markdown",
   "id": "7f24f8a0-411a-4a9e-9fee-26864b153953",
   "metadata": {},
   "source": [
    "# app reviews sentiment analysis"
   ]
  },
  {
   "cell_type": "markdown",
   "id": "a9ed8203-8540-4c38-b413-da4b6df11be8",
   "metadata": {},
   "source": [
    "# app reviews sentiment analysis means evaluating and understanding the sentiment expressed in user reviws of mobile applications. "
   ]
  },
  {
   "cell_type": "code",
   "execution_count": 19,
   "id": "c2b9ee0e-6271-4103-a0c9-c397ab437d08",
   "metadata": {},
   "outputs": [],
   "source": [
    "import numpy as np \n",
    "import pandas as pd"
   ]
  },
  {
   "cell_type": "code",
   "execution_count": 20,
   "id": "d1a13868-8ab7-47a9-9025-1ac901164c78",
   "metadata": {},
   "outputs": [],
   "source": [
    "df = pd.read_csv(\"C:\\\\Users\\\\snehr\\\\Desktop\\\\python\\\\linkedin-reviews.csv\")"
   ]
  },
  {
   "cell_type": "code",
   "execution_count": 21,
   "id": "7ae54db4-6ffe-4168-b7ac-68052b818f3c",
   "metadata": {},
   "outputs": [
    {
     "data": {
      "text/html": [
       "<div>\n",
       "<style scoped>\n",
       "    .dataframe tbody tr th:only-of-type {\n",
       "        vertical-align: middle;\n",
       "    }\n",
       "\n",
       "    .dataframe tbody tr th {\n",
       "        vertical-align: top;\n",
       "    }\n",
       "\n",
       "    .dataframe thead th {\n",
       "        text-align: right;\n",
       "    }\n",
       "</style>\n",
       "<table border=\"1\" class=\"dataframe\">\n",
       "  <thead>\n",
       "    <tr style=\"text-align: right;\">\n",
       "      <th></th>\n",
       "      <th>Review</th>\n",
       "      <th>Rating</th>\n",
       "    </tr>\n",
       "  </thead>\n",
       "  <tbody>\n",
       "    <tr>\n",
       "      <th>0</th>\n",
       "      <td>Does absolutely nothing for a LinkedIn beginne...</td>\n",
       "      <td>1</td>\n",
       "    </tr>\n",
       "    <tr>\n",
       "      <th>1</th>\n",
       "      <td>Force close(galaxy tab)</td>\n",
       "      <td>1</td>\n",
       "    </tr>\n",
       "    <tr>\n",
       "      <th>2</th>\n",
       "      <td>Slow and it tries to upload your contacts with...</td>\n",
       "      <td>1</td>\n",
       "    </tr>\n",
       "    <tr>\n",
       "      <th>3</th>\n",
       "      <td>Add ability to customize the profile and move ...</td>\n",
       "      <td>4</td>\n",
       "    </tr>\n",
       "    <tr>\n",
       "      <th>4</th>\n",
       "      <td>Good app, but it's a pain that it's not possib...</td>\n",
       "      <td>4</td>\n",
       "    </tr>\n",
       "    <tr>\n",
       "      <th>...</th>\n",
       "      <td>...</td>\n",
       "      <td>...</td>\n",
       "    </tr>\n",
       "    <tr>\n",
       "      <th>697</th>\n",
       "      <td>Can't trust, Going to uninstall just for that ...</td>\n",
       "      <td>1</td>\n",
       "    </tr>\n",
       "    <tr>\n",
       "      <th>698</th>\n",
       "      <td>It really gets me linked in with my friends. H...</td>\n",
       "      <td>5</td>\n",
       "    </tr>\n",
       "    <tr>\n",
       "      <th>699</th>\n",
       "      <td>It lacks most of what makes the other social n...</td>\n",
       "      <td>4</td>\n",
       "    </tr>\n",
       "    <tr>\n",
       "      <th>700</th>\n",
       "      <td>Really disappointed in the new version. Seems ...</td>\n",
       "      <td>2</td>\n",
       "    </tr>\n",
       "    <tr>\n",
       "      <th>701</th>\n",
       "      <td>One of the best looking and well designed apps...</td>\n",
       "      <td>5</td>\n",
       "    </tr>\n",
       "  </tbody>\n",
       "</table>\n",
       "<p>702 rows × 2 columns</p>\n",
       "</div>"
      ],
      "text/plain": [
       "                                                Review  Rating\n",
       "0    Does absolutely nothing for a LinkedIn beginne...       1\n",
       "1                              Force close(galaxy tab)       1\n",
       "2    Slow and it tries to upload your contacts with...       1\n",
       "3    Add ability to customize the profile and move ...       4\n",
       "4    Good app, but it's a pain that it's not possib...       4\n",
       "..                                                 ...     ...\n",
       "697  Can't trust, Going to uninstall just for that ...       1\n",
       "698  It really gets me linked in with my friends. H...       5\n",
       "699  It lacks most of what makes the other social n...       4\n",
       "700  Really disappointed in the new version. Seems ...       2\n",
       "701  One of the best looking and well designed apps...       5\n",
       "\n",
       "[702 rows x 2 columns]"
      ]
     },
     "execution_count": 21,
     "metadata": {},
     "output_type": "execute_result"
    }
   ],
   "source": [
    "df"
   ]
  },
  {
   "cell_type": "code",
   "execution_count": 22,
   "id": "fd91ca51-2e22-4b3a-878c-d87c02658b60",
   "metadata": {},
   "outputs": [],
   "source": [
    "import matplotlib.pyplot as plt \n",
    "import seaborn as sns "
   ]
  },
  {
   "cell_type": "code",
   "execution_count": 23,
   "id": "669cd80b-abfb-4623-a336-7f7650808b67",
   "metadata": {},
   "outputs": [
    {
     "name": "stdout",
     "output_type": "stream",
     "text": [
      "<class 'pandas.core.frame.DataFrame'>\n",
      "RangeIndex: 702 entries, 0 to 701\n",
      "Data columns (total 2 columns):\n",
      " #   Column  Non-Null Count  Dtype \n",
      "---  ------  --------------  ----- \n",
      " 0   Review  702 non-null    object\n",
      " 1   Rating  702 non-null    int64 \n",
      "dtypes: int64(1), object(1)\n",
      "memory usage: 11.1+ KB\n"
     ]
    }
   ],
   "source": [
    "df.info()"
   ]
  },
  {
   "cell_type": "markdown",
   "id": "08286ae6-73b7-4273-99e9-ed3ec9a0f357",
   "metadata": {},
   "source": [
    "# exploaratory data analysis"
   ]
  },
  {
   "cell_type": "markdown",
   "id": "29e633b5-e975-4bc5-bb7b-bb6ae9f86c1a",
   "metadata": {},
   "source": [
    "# we will start by analyziz the distributions of rating . it will be provide inside into the overall sentiment of the reviws . then we can explore further , such as analyziz the length of reviews , and possibly insight from the text of the reviews ."
   ]
  },
  {
   "cell_type": "markdown",
   "id": "a18afb40-8f92-4a2b-bdd1-f8f2a123560e",
   "metadata": {},
   "source": [
    "# plotting the distributions of ratings "
   ]
  },
  {
   "cell_type": "code",
   "execution_count": 24,
   "id": "d1c4c90b-06b3-42dd-b82f-02854303b697",
   "metadata": {},
   "outputs": [
    {
     "data": {
      "image/png": "[encoded data removed]",
      "text/plain": [
       "<Figure size 900x500 with 1 Axes>"
      ]
     },
     "metadata": {},
     "output_type": "display_data"
    }
   ],
   "source": [
    "sns. set(style = 'whitegrid')\n",
    "plt.figure(figsize = (9,5))\n",
    "sns. countplot(data = df, x ='Rating')\n",
    "plt.title('Distribution ofRatings')\n",
    "plt.xlabel('Rating')\n",
    "plt.ylabel('Count')\n",
    "plt.show()"
   ]
  },
  {
   "cell_type": "markdown",
   "id": "2d90c47a-db6f-414d-9f23-70c1db08837d",
   "metadata": {},
   "source": [
    "# adding sentiment labels in the data"
   ]
  },
  {
   "cell_type": "markdown",
   "id": "bcbe2700-4350-4ae1-9b9c-5b38f7f5cbcc",
   "metadata": {},
   "source": [
    "# we will use textblob library. textblob provides a polarity scores ranning from -1(very negative) to 1 (very positive) for a given text . we can use this score to classify each reviews sentiment as positive, negative or neutral."
   ]
  },
  {
   "cell_type": "markdown",
   "id": "e90170cb-fe20-4d49-b445-d46a62a76f70",
   "metadata": {},
   "source": [
    "!pip install textblob"
   ]
  },
  {
   "cell_type": "code",
   "execution_count": 25,
   "id": "d415521c-2015-408e-8ca7-0efe7b29c425",
   "metadata": {},
   "outputs": [
    {
     "name": "stdout",
     "output_type": "stream",
     "text": [
      "Requirement already satisfied: textblob in c:\\users\\snehr\\anaconda3\\lib\\site-packages (0.18.0.post0)\n",
      "Requirement already satisfied: nltk>=3.8 in c:\\users\\snehr\\anaconda3\\lib\\site-packages (from textblob) (3.8.1)\n",
      "Requirement already satisfied: click in c:\\users\\snehr\\anaconda3\\lib\\site-packages (from nltk>=3.8->textblob) (8.1.7)\n",
      "Requirement already satisfied: joblib in c:\\users\\snehr\\anaconda3\\lib\\site-packages (from nltk>=3.8->textblob) (1.2.0)\n",
      "Requirement already satisfied: regex>=2021.8.3 in c:\\users\\snehr\\anaconda3\\lib\\site-packages (from nltk>=3.8->textblob) (2023.10.3)\n",
      "Requirement already satisfied: tqdm in c:\\users\\snehr\\anaconda3\\lib\\site-packages (from nltk>=3.8->textblob) (4.65.0)\n",
      "Requirement already satisfied: colorama in c:\\users\\snehr\\anaconda3\\lib\\site-packages (from click->nltk>=3.8->textblob) (0.4.6)\n"
     ]
    }
   ],
   "source": [
    "!pip install textblob"
   ]
  },
  {
   "cell_type": "code",
   "execution_count": 26,
   "id": "3b89e8ef-d2c4-4524-b55d-920abf78d800",
   "metadata": {},
   "outputs": [],
   "source": [
    "from textblob import TextBlob"
   ]
  },
  {
   "cell_type": "code",
   "execution_count": 27,
   "id": "b3924a5b-f1fc-4c0c-9167-6e9c6ac05060",
   "metadata": {},
   "outputs": [],
   "source": [
    "def textblob_sentiment_analysis(review):\n",
    "    sentiment = TextBlob(review).sentiment\n",
    "    if sentiment.polarity > 0.1 :\n",
    "        return 'Positive'\n",
    "    elif sentiment.polarity < -0.1 :\n",
    "        return 'Negative'\n",
    "    else :\n",
    "        return 'Neutral' \n",
    "    "
   ]
  },
  {
   "cell_type": "code",
   "execution_count": 28,
   "id": "a4461dbc-f193-4970-ac46-3685331125b7",
   "metadata": {},
   "outputs": [],
   "source": [
    "df['Sentiment'] = df['Review'].apply(textblob_sentiment_analysis) "
   ]
  },
  {
   "cell_type": "code",
   "execution_count": 12,
   "id": "a8040998-ddc9-4d22-b271-ab482e9272dc",
   "metadata": {},
   "outputs": [
    {
     "data": {
      "text/html": [
       "<div>\n",
       "<style scoped>\n",
       "    .dataframe tbody tr th:only-of-type {\n",
       "        vertical-align: middle;\n",
       "    }\n",
       "\n",
       "    .dataframe tbody tr th {\n",
       "        vertical-align: top;\n",
       "    }\n",
       "\n",
       "    .dataframe thead th {\n",
       "        text-align: right;\n",
       "    }\n",
       "</style>\n",
       "<table border=\"1\" class=\"dataframe\">\n",
       "  <thead>\n",
       "    <tr style=\"text-align: right;\">\n",
       "      <th></th>\n",
       "      <th>Review</th>\n",
       "      <th>Rating</th>\n",
       "    </tr>\n",
       "  </thead>\n",
       "  <tbody>\n",
       "    <tr>\n",
       "      <th>454</th>\n",
       "      <td>Worked before the upgrade. Very disappointed.</td>\n",
       "      <td>1</td>\n",
       "    </tr>\n",
       "    <tr>\n",
       "      <th>469</th>\n",
       "      <td>Like that they tried to make or user friendly,...</td>\n",
       "      <td>3</td>\n",
       "    </tr>\n",
       "    <tr>\n",
       "      <th>525</th>\n",
       "      <td>Much nicer than the previous version</td>\n",
       "      <td>4</td>\n",
       "    </tr>\n",
       "    <tr>\n",
       "      <th>135</th>\n",
       "      <td>Very limited, can't see group discussions.</td>\n",
       "      <td>2</td>\n",
       "    </tr>\n",
       "    <tr>\n",
       "      <th>507</th>\n",
       "      <td>Really hate this update. Like old interface be...</td>\n",
       "      <td>2</td>\n",
       "    </tr>\n",
       "  </tbody>\n",
       "</table>\n",
       "</div>"
      ],
      "text/plain": [
       "                                                Review  Rating\n",
       "454      Worked before the upgrade. Very disappointed.       1\n",
       "469  Like that they tried to make or user friendly,...       3\n",
       "525               Much nicer than the previous version       4\n",
       "135         Very limited, can't see group discussions.       2\n",
       "507  Really hate this update. Like old interface be...       2"
      ]
     },
     "execution_count": 12,
     "metadata": {},
     "output_type": "execute_result"
    }
   ],
   "source": [
    "df.sample(5)"
   ]
  },
  {
   "cell_type": "markdown",
   "id": "986b8008-0d5a-41c5-90ed-4c636c987d09",
   "metadata": {},
   "source": [
    "# analyzing app reviews sentiments"
   ]
  },
  {
   "cell_type": "code",
   "execution_count": 29,
   "id": "2b01597b-eb5e-4645-8ebe-aacde11bc3a7",
   "metadata": {},
   "outputs": [
    {
     "data": {
      "text/plain": [
       "Sentiment\n",
       "Positive    298\n",
       "Neutral     297\n",
       "Negative    107\n",
       "Name: count, dtype: int64"
      ]
     },
     "execution_count": 29,
     "metadata": {},
     "output_type": "execute_result"
    }
   ],
   "source": [
    "sentiment_distribution = df['Sentiment'].value_counts()\n",
    "sentiment_distribution"
   ]
  },
  {
   "cell_type": "code",
   "execution_count": 15,
   "id": "1ee8251c-4801-4ddb-93be-ecabaff3131f",
   "metadata": {},
   "outputs": [
    {
     "data": {
      "image/png": "[encoded data removed]",
      "text/plain": [
       "<Figure size 900x500 with 1 Axes>"
      ]
     },
     "metadata": {},
     "output_type": "display_data"
    }
   ],
   "source": [
    "plt.figure(figsize = (9,5))\n",
    "sns.barplot(x = sentiment_distribution.index,\n",
    "            y = sentiment_distribution.values)\n",
    "plt.title('Distribution of Sentiments')\n",
    "plt.xlabel('Sentiment')\n",
    "plt.ylabel('Count')\n",
    "plt.show()            "
   ]
  },
  {
   "cell_type": "markdown",
   "id": "9e083d85-bbe2-4a6e-8372-05502534447e",
   "metadata": {},
   "source": [
    "# so , we can see althrough the app has low ratings, still the reviews don't use many negative words in the reviews of the app"
   ]
  },
  {
   "cell_type": "markdown",
   "id": "e75ea104-d7b0-4de3-a567-1bd5462884c4",
   "metadata": {},
   "source": [
    "# next ,we'll explore the relationship between the sentiments and the ratings . this analysis can help us understand whether there is a correction betwwen the  sentiment of the text and numerical ratings.\n"
   ]
  },
  {
   "cell_type": "code",
   "execution_count": 30,
   "id": "d22cf41a-0593-4ae5-9e57-385aa6dd806b",
   "metadata": {},
   "outputs": [
    {
     "data": {
      "image/png": "[encoded data removed]",
      "text/plain": [
       "<Figure size 1000x500 with 1 Axes>"
      ]
     },
     "metadata": {},
     "output_type": "display_data"
    }
   ],
   "source": [
    "plt.figure(figsize = (10,5))\n",
    "sns.countplot(data = df,\n",
    "              x = 'Rating',\n",
    "              hue = 'Sentiment')\n",
    "plt.xlabel('Rating')\n",
    "plt.ylabel('Count')\n",
    "plt.legend(title='Sentiment')\n",
    "plt.show()"
   ]
  },
  {
   "cell_type": "markdown",
   "id": "c4225b33-69e2-48dc-b443-dfdcc9271c70",
   "metadata": {},
   "source": [
    "# Now let's perform a text analysis to identify common words or themes within each sentiment category . It involves examining the most frequently occuring words in positive , negative and neutral reviews using a wordcloud."
   ]
  },
  {
   "cell_type": "code",
   "execution_count": 33,
   "id": "0457472d-f0f9-4c99-8f3f-ea7dd66cb08a",
   "metadata": {},
   "outputs": [
    {
     "ename": "ModuleNotFoundError",
     "evalue": "No module named 'wordcloud'",
     "output_type": "error",
     "traceback": [
      "\u001b[1;31m---------------------------------------------------------------------------\u001b[0m",
      "\u001b[1;31mModuleNotFoundError\u001b[0m                       Traceback (most recent call last)",
      "Cell \u001b[1;32mIn[33], line 1\u001b[0m\n\u001b[1;32m----> 1\u001b[0m \u001b[38;5;28;01mfrom\u001b[39;00m \u001b[38;5;21;01mwordcloud\u001b[39;00m \u001b[38;5;28;01mimport\u001b[39;00m WordCloud\n",
      "\u001b[1;31mModuleNotFoundError\u001b[0m: No module named 'wordcloud'"
     ]
    }
   ],
   "source": [
    "from wordcloud import WordCloud "
   ]
  },
  {
   "cell_type": "code",
   "execution_count": 35,
   "id": "08f25ec2-34ff-4ea3-a7a4-e223b6ef05b1",
   "metadata": {},
   "outputs": [
    {
     "ename": "NameError",
     "evalue": "name 'WordCloud' is not defined",
     "output_type": "error",
     "traceback": [
      "\u001b[1;31m---------------------------------------------------------------------------\u001b[0m",
      "\u001b[1;31mNameError\u001b[0m                                 Traceback (most recent call last)",
      "Cell \u001b[1;32mIn[35], line 13\u001b[0m\n\u001b[0;32m     11\u001b[0m \u001b[38;5;66;03m#Generating word clouds for each sentiment \u001b[39;00m\n\u001b[0;32m     12\u001b[0m \u001b[38;5;28;01mfor\u001b[39;00m sentiment \u001b[38;5;129;01min\u001b[39;00m [\u001b[38;5;124m'\u001b[39m\u001b[38;5;124mPositive\u001b[39m\u001b[38;5;124m'\u001b[39m , \u001b[38;5;124m'\u001b[39m\u001b[38;5;124mNegative\u001b[39m\u001b[38;5;124m'\u001b[39m , \u001b[38;5;124m'\u001b[39m\u001b[38;5;124mNeutral\u001b[39m\u001b[38;5;124m'\u001b[39m]:\n\u001b[1;32m---> 13\u001b[0m     generate_word_cloud(sentiment)\n",
      "Cell \u001b[1;32mIn[35], line 3\u001b[0m, in \u001b[0;36mgenerate_word_cloud\u001b[1;34m(sentiment)\u001b[0m\n\u001b[0;32m      1\u001b[0m \u001b[38;5;28;01mdef\u001b[39;00m \u001b[38;5;21mgenerate_word_cloud\u001b[39m(sentiment):\n\u001b[0;32m      2\u001b[0m     text \u001b[38;5;241m=\u001b[39m \u001b[38;5;124m'\u001b[39m\u001b[38;5;124m \u001b[39m\u001b[38;5;124m'\u001b[39m\u001b[38;5;241m.\u001b[39mjoin(review \u001b[38;5;28;01mfor\u001b[39;00m review \u001b[38;5;129;01min\u001b[39;00m df[df[\u001b[38;5;124m'\u001b[39m\u001b[38;5;124mSentiment\u001b[39m\u001b[38;5;124m'\u001b[39m] \u001b[38;5;241m==\u001b[39m sentiment][\u001b[38;5;124m'\u001b[39m\u001b[38;5;124mReview\u001b[39m\u001b[38;5;124m'\u001b[39m])\n\u001b[1;32m----> 3\u001b[0m     wordcloud \u001b[38;5;241m=\u001b[39m WordCloud(width\u001b[38;5;241m=\u001b[39m\u001b[38;5;241m800\u001b[39m,height\u001b[38;5;241m=\u001b[39m\u001b[38;5;241m400\u001b[39m,background_color\u001b[38;5;241m=\u001b[39m\u001b[38;5;124m'\u001b[39m\u001b[38;5;124mwhite\u001b[39m\u001b[38;5;124m'\u001b[39m)\u001b[38;5;241m.\u001b[39mgenerate(text)\n\u001b[0;32m      4\u001b[0m     plt\u001b[38;5;241m.\u001b[39mfigure(figsize\u001b[38;5;241m=\u001b[39m(\u001b[38;5;241m10\u001b[39m,\u001b[38;5;241m5\u001b[39m))\n\u001b[0;32m      5\u001b[0m     plt\u001b[38;5;241m.\u001b[39mimshow(wordcloud, interpolation\u001b[38;5;241m=\u001b[39m\u001b[38;5;124m'\u001b[39m\u001b[38;5;124mbilinear\u001b[39m\u001b[38;5;124m'\u001b[39m)\n",
      "\u001b[1;31mNameError\u001b[0m: name 'WordCloud' is not defined"
     ]
    }
   ],
   "source": [
    "def generate_word_cloud(sentiment):\n",
    "    text = ' '.join(review for review in df[df['Sentiment'] == sentiment]['Review'])\n",
    "    wordcloud = WordCloud(width=800,height=400,background_color='white').generate(text)\n",
    "    plt.figure(figsize=(10,5))\n",
    "    plt.imshow(wordcloud, interpolation='bilinear')\n",
    "    plt.title(f'Word Cloud for {sentiment} Reviews')\n",
    "    plt.axis('off')\n",
    "    plt.show()\n",
    "    \n",
    "    \n",
    "#Generating word clouds for each sentiment \n",
    "for sentiment in ['Positive' , 'Negative' , 'Neutral']:\n",
    "    generate_word_cloud(sentiment)"
   ]
  },
  {
   "cell_type": "code",
   "execution_count": null,
   "id": "0b87a42b-afae-4aef-8ee8-967acfe7dc1c",
   "metadata": {},
   "outputs": [],
   "source": []
  }
 ],
 "metadata": {
  "kernelspec": {
   "display_name": "Python 3 (ipykernel)",
   "language": "python",
   "name": "python3"
  },
  "language_info": {
   "codemirror_mode": {
    "name": "ipython",
    "version": 3
   },
   "file_extension": ".py",
   "mimetype": "text/x-python",
   "name": "python",
   "nbconvert_exporter": "python",
   "pygments_lexer": "ipython3",
   "version": "3.11.7"
  }
 },
 "nbformat": 4,
 "nbformat_minor": 5
}
