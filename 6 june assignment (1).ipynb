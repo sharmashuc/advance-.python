{
 "cells": [
  {
   "cell_type": "code",
   "execution_count": 1,
   "id": "dfb8f884-9d33-45dc-8bb1-ea1628111fe3",
   "metadata": {},
   "outputs": [
    {
     "name": "stdout",
     "output_type": "stream",
     "text": [
      "Time taken for NumPy array multiplication: 0.0\n",
      "Time taken for Python list multiplication: 0.12776732444763184\n"
     ]
    }
   ],
   "source": [
    "#Q1. Performance: NumPy arrays are implemented in C, which makes them much faster than Python lists for numerical operations. This is because they are stored in contiguous memory and are optimized for arithmetic operations.\n",
    "\n",
    "#Memory Efficiency: NumPy arrays use less memory compared to Python lists. This is because NumPy arrays are homogeneous, meaning they contain elements of the same data type, whereas Python lists can contain elements of different types.\n",
    "# Functionality: NumPy provides a wide range of mathematical functions and operations that can be performed directly on arrays without the need for explicit looping, which leads to more concise and readable code.\n",
    "import numpy as np\n",
    "import time\n",
    "\n",
    "# Number of elements in the array\n",
    "size = 1000000\n",
    "\n",
    "# Create a NumPy array and a Python list with the same data\n",
    "np_array = np.arange(size)\n",
    "py_list = list(range(size))\n",
    "\n",
    "# Measure the time taken for element-wise multiplication using NumPy\n",
    "start_time_np = time.time()\n",
    "result_np = np_array * 2\n",
    "end_time_np = time.time()\n",
    "\n",
    "# Measure the time taken for element-wise multiplication using Python lists\n",
    "start_time_py = time.time()\n",
    "result_py = [x * 2 for x in py_list]\n",
    "end_time_py = time.time()\n",
    "\n",
    "# Calculate the time taken for each method\n",
    "time_taken_np = end_time_np - start_time_np\n",
    "time_taken_py = end_time_py - start_time_py\n",
    "\n",
    "print(\"Time taken for NumPy array multiplication:\", time_taken_np)\n",
    "print(\"Time taken for Python list multiplication:\", time_taken_py)\n",
    "\n"
   ]
  },
  {
   "cell_type": "code",
   "execution_count": 2,
   "id": "af89866c-fb85-48b7-88b1-1556839d31c7",
   "metadata": {},
   "outputs": [
    {
     "name": "stdout",
     "output_type": "stream",
     "text": [
      "Shape of the array: (2, 3)\n",
      "Number of dimensions: 2\n"
     ]
    }
   ],
   "source": [
    "# Q2.\n",
    "import numpy as np\n",
    "arr = np.array([[1, 2, 3], [4, 5, 6]])\n",
    "shape = arr.shape\n",
    "num_dimensions = arr.ndim\n",
    "\n",
    "print(\"Shape of the array:\", shape)\n",
    "print(\"Number of dimensions:\", num_dimensions)\n"
   ]
  },
  {
   "cell_type": "code",
   "execution_count": 2,
   "id": "ed59e35e-ae7c-41d4-b406-5c2669520c91",
   "metadata": {},
   "outputs": [],
   "source": [
    "# Q3. \n",
    "# numpy.zeros: This function creates an array filled with zeros.\n",
    "# numpy.ones: This function creates an array filled with ones.\n",
    "# numpy.eye: This function creates a 2-D array with ones on the diagonal and zeros elsewhere (identity matrix\n",
    "# numpy.diag: This function extracts or constructs a diagonal array.\n",
    "# numpy.unique: This function returns the unique elements of an array.\n",
    "# numpy.linspace: This function returns evenly spaced numbers over a specified interval.\n",
    "# numpy.vstack: This function stacks arrays vertically (row-wise).\n",
    "# numpy.hstack: This function stacks arrays horizontally (column-wise).\n",
    "# numpy.random: This module provides functions for generating random numbers.\n",
    "# numpy.int: This is not a function but a data type representing integers in NumPy.\n",
    "# numpy.random.rand: This function generates an array of specified shape and fills it with random samples from a uniform distribution over [0, 1).\n",
    "# numpy.random.seed: This function is used to seed the random number generator. It ensures reproducibility by initializing the random number generator to a specific state."
   ]
  },
  {
   "cell_type": "code",
   "execution_count": 3,
   "id": "cce803b8-1bbf-47eb-823c-b3f7602bc269",
   "metadata": {},
   "outputs": [
    {
     "name": "stdout",
     "output_type": "stream",
     "text": [
      "User-defined array: [1 2 3 4 5]\n"
     ]
    }
   ],
   "source": [
    "# Q4. \n",
    "import numpy as np\n",
    "user_defined_array = np.array([1, 2, 3, 4, 5])\n",
    "\n",
    "print(\"User-defined array:\", user_defined_array)\n"
   ]
  },
  {
   "cell_type": "code",
   "execution_count": 6,
   "id": "2f9c7308-9137-4380-b20e-02405d4e5d01",
   "metadata": {},
   "outputs": [
    {
     "name": "stdout",
     "output_type": "stream",
     "text": [
      "Series:\n",
      "0    1\n",
      "1    2\n",
      "2    3\n",
      "3    4\n",
      "4    5\n",
      "dtype: int64\n"
     ]
    }
   ],
   "source": [
    "# Q5.\n",
    "# series==> Definition: A Series is a one-dimensional labeled array capable of holding data of any type (integer, string, float, etc.). It is like a column in a spreadsheet or a single-dimensional array.\n",
    "import pandas as pd\n",
    "\n",
    "\n",
    "s = pd.Series([1, 2, 3, 4, 5])\n",
    "\n",
    "print(\"Series:\")\n",
    "print(s)\n"
   ]
  },
  {
   "cell_type": "code",
   "execution_count": 4,
   "id": "b5f58381-bc86-4042-9517-536952246939",
   "metadata": {},
   "outputs": [
    {
     "name": "stdout",
     "output_type": "stream",
     "text": [
      "DataFrame:\n",
      "    Name  Age      City\n",
      "0  Aliya   25     india\n",
      "1  meenu   30  pakistan\n",
      "2   raju   35     china\n"
     ]
    }
   ],
   "source": [
    "# 5 question  data frame==>   Definition: A DataFrame is a two-dimensional labeled data structure with columns of potentially different types. It is like a spreadsheet or a SQL table, or a dictionary of Series objects. It is the most commonly used Pandas object.\n",
    "import pandas as pd\n",
    "data = {'Name': ['Aliya', 'meenu', 'raju'],\n",
    "        'Age': [25, 30, 35],\n",
    "        'City': ['india', 'pakistan', 'china']}\n",
    "\n",
    "df = pd.DataFrame(data)\n",
    "\n",
    "print(\"DataFrame:\")\n",
    "print(df)\n"
   ]
  },
  {
   "cell_type": "code",
   "execution_count": 5,
   "id": "27e7503d-85c6-4f5c-a923-d13cfd18d616",
   "metadata": {},
   "outputs": [
    {
     "data": {
      "text/html": [
       "<div>\n",
       "<style scoped>\n",
       "    .dataframe tbody tr th:only-of-type {\n",
       "        vertical-align: middle;\n",
       "    }\n",
       "\n",
       "    .dataframe tbody tr th {\n",
       "        vertical-align: top;\n",
       "    }\n",
       "\n",
       "    .dataframe thead th {\n",
       "        text-align: right;\n",
       "    }\n",
       "</style>\n",
       "<table border=\"1\" class=\"dataframe\">\n",
       "  <thead>\n",
       "    <tr style=\"text-align: right;\">\n",
       "      <th></th>\n",
       "      <th>Name</th>\n",
       "      <th>Age</th>\n",
       "      <th>City</th>\n",
       "    </tr>\n",
       "  </thead>\n",
       "  <tbody>\n",
       "    <tr>\n",
       "      <th>0</th>\n",
       "      <td>True</td>\n",
       "      <td>True</td>\n",
       "      <td>True</td>\n",
       "    </tr>\n",
       "    <tr>\n",
       "      <th>1</th>\n",
       "      <td>True</td>\n",
       "      <td>True</td>\n",
       "      <td>True</td>\n",
       "    </tr>\n",
       "    <tr>\n",
       "      <th>2</th>\n",
       "      <td>True</td>\n",
       "      <td>True</td>\n",
       "      <td>True</td>\n",
       "    </tr>\n",
       "  </tbody>\n",
       "</table>\n",
       "</div>"
      ],
      "text/plain": [
       "   Name   Age  City\n",
       "0  True  True  True\n",
       "1  True  True  True\n",
       "2  True  True  True"
      ]
     },
     "execution_count": 5,
     "metadata": {},
     "output_type": "execute_result"
    }
   ],
   "source": [
    "# 6 question  \n",
    "df.isnull()\n",
    "\n",
    "df.notnull()\n"
   ]
  },
  {
   "cell_type": "code",
   "execution_count": 6,
   "id": "ffc671dd-7401-492a-9736-b9990105c68f",
   "metadata": {},
   "outputs": [
    {
     "data": {
      "text/html": [
       "<div>\n",
       "<style scoped>\n",
       "    .dataframe tbody tr th:only-of-type {\n",
       "        vertical-align: middle;\n",
       "    }\n",
       "\n",
       "    .dataframe tbody tr th {\n",
       "        vertical-align: top;\n",
       "    }\n",
       "\n",
       "    .dataframe thead th {\n",
       "        text-align: right;\n",
       "    }\n",
       "</style>\n",
       "<table border=\"1\" class=\"dataframe\">\n",
       "  <thead>\n",
       "    <tr style=\"text-align: right;\">\n",
       "      <th></th>\n",
       "      <th>Name</th>\n",
       "      <th>Age</th>\n",
       "      <th>City</th>\n",
       "    </tr>\n",
       "  </thead>\n",
       "  <tbody>\n",
       "    <tr>\n",
       "      <th>0</th>\n",
       "      <td>Aliya</td>\n",
       "      <td>25</td>\n",
       "      <td>india</td>\n",
       "    </tr>\n",
       "    <tr>\n",
       "      <th>1</th>\n",
       "      <td>meenu</td>\n",
       "      <td>30</td>\n",
       "      <td>pakistan</td>\n",
       "    </tr>\n",
       "    <tr>\n",
       "      <th>2</th>\n",
       "      <td>raju</td>\n",
       "      <td>35</td>\n",
       "      <td>china</td>\n",
       "    </tr>\n",
       "  </tbody>\n",
       "</table>\n",
       "</div>"
      ],
      "text/plain": [
       "    Name  Age      City\n",
       "0  Aliya   25     india\n",
       "1  meenu   30  pakistan\n",
       "2   raju   35     china"
      ]
     },
     "execution_count": 6,
     "metadata": {},
     "output_type": "execute_result"
    }
   ],
   "source": [
    "# Drop rows with missing values\n",
    "df.dropna()\n",
    "\n",
    "# Drop columns with missing values\n",
    "df.dropna(axis=1)\n"
   ]
  },
  {
   "cell_type": "code",
   "execution_count": 7,
   "id": "ca9f211a-4c98-41d4-a0a9-10a362cded2d",
   "metadata": {},
   "outputs": [
    {
     "name": "stderr",
     "output_type": "stream",
     "text": [
      "C:\\Users\\snehr\\AppData\\Local\\Temp\\ipykernel_20568\\728052661.py:2: FutureWarning: DataFrame.interpolate with object dtype is deprecated and will raise in a future version. Call obj.infer_objects(copy=False) before interpolating instead.\n",
      "  df.interpolate(method='linear')\n"
     ]
    },
    {
     "data": {
      "text/html": [
       "<div>\n",
       "<style scoped>\n",
       "    .dataframe tbody tr th:only-of-type {\n",
       "        vertical-align: middle;\n",
       "    }\n",
       "\n",
       "    .dataframe tbody tr th {\n",
       "        vertical-align: top;\n",
       "    }\n",
       "\n",
       "    .dataframe thead th {\n",
       "        text-align: right;\n",
       "    }\n",
       "</style>\n",
       "<table border=\"1\" class=\"dataframe\">\n",
       "  <thead>\n",
       "    <tr style=\"text-align: right;\">\n",
       "      <th></th>\n",
       "      <th>Name</th>\n",
       "      <th>Age</th>\n",
       "      <th>City</th>\n",
       "    </tr>\n",
       "  </thead>\n",
       "  <tbody>\n",
       "    <tr>\n",
       "      <th>0</th>\n",
       "      <td>Aliya</td>\n",
       "      <td>25</td>\n",
       "      <td>india</td>\n",
       "    </tr>\n",
       "    <tr>\n",
       "      <th>1</th>\n",
       "      <td>meenu</td>\n",
       "      <td>30</td>\n",
       "      <td>pakistan</td>\n",
       "    </tr>\n",
       "    <tr>\n",
       "      <th>2</th>\n",
       "      <td>raju</td>\n",
       "      <td>35</td>\n",
       "      <td>china</td>\n",
       "    </tr>\n",
       "  </tbody>\n",
       "</table>\n",
       "</div>"
      ],
      "text/plain": [
       "    Name  Age      City\n",
       "0  Aliya   25     india\n",
       "1  meenu   30  pakistan\n",
       "2   raju   35     china"
      ]
     },
     "execution_count": 7,
     "metadata": {},
     "output_type": "execute_result"
    }
   ],
   "source": [
    "# Linear interpolation\n",
    "df.interpolate(method='linear')\n"
   ]
  },
  {
   "cell_type": "code",
   "execution_count": 8,
   "id": "181e2656-04ea-42ec-a5a8-3d71cfe9b607",
   "metadata": {},
   "outputs": [
    {
     "data": {
      "text/html": [
       "<div>\n",
       "<style scoped>\n",
       "    .dataframe tbody tr th:only-of-type {\n",
       "        vertical-align: middle;\n",
       "    }\n",
       "\n",
       "    .dataframe tbody tr th {\n",
       "        vertical-align: top;\n",
       "    }\n",
       "\n",
       "    .dataframe thead th {\n",
       "        text-align: right;\n",
       "    }\n",
       "</style>\n",
       "<table border=\"1\" class=\"dataframe\">\n",
       "  <thead>\n",
       "    <tr style=\"text-align: right;\">\n",
       "      <th></th>\n",
       "      <th>Age</th>\n",
       "    </tr>\n",
       "  </thead>\n",
       "  <tbody>\n",
       "    <tr>\n",
       "      <th>count</th>\n",
       "      <td>3.0</td>\n",
       "    </tr>\n",
       "    <tr>\n",
       "      <th>mean</th>\n",
       "      <td>30.0</td>\n",
       "    </tr>\n",
       "    <tr>\n",
       "      <th>std</th>\n",
       "      <td>5.0</td>\n",
       "    </tr>\n",
       "    <tr>\n",
       "      <th>min</th>\n",
       "      <td>25.0</td>\n",
       "    </tr>\n",
       "    <tr>\n",
       "      <th>25%</th>\n",
       "      <td>27.5</td>\n",
       "    </tr>\n",
       "    <tr>\n",
       "      <th>50%</th>\n",
       "      <td>30.0</td>\n",
       "    </tr>\n",
       "    <tr>\n",
       "      <th>75%</th>\n",
       "      <td>32.5</td>\n",
       "    </tr>\n",
       "    <tr>\n",
       "      <th>max</th>\n",
       "      <td>35.0</td>\n",
       "    </tr>\n",
       "  </tbody>\n",
       "</table>\n",
       "</div>"
      ],
      "text/plain": [
       "        Age\n",
       "count   3.0\n",
       "mean   30.0\n",
       "std     5.0\n",
       "min    25.0\n",
       "25%    27.5\n",
       "50%    30.0\n",
       "75%    32.5\n",
       "max    35.0"
      ]
     },
     "execution_count": 8,
     "metadata": {},
     "output_type": "execute_result"
    }
   ],
   "source": [
    "# 7 question   describe() Method:\n",
    "\n",
    " # The describe() method generates descriptive statistics for numeric columns in the DataFrame, such as count, mean, standard deviation, minimum, maximum, and quartiles.\n",
    "\n",
    "df.describe()\n"
   ]
  },
  {
   "cell_type": "code",
   "execution_count": 9,
   "id": "2110622c-0b0f-42ef-8058-fb6a05701e13",
   "metadata": {},
   "outputs": [
    {
     "name": "stdout",
     "output_type": "stream",
     "text": [
      "<class 'pandas.core.frame.DataFrame'>\n",
      "RangeIndex: 3 entries, 0 to 2\n",
      "Data columns (total 3 columns):\n",
      " #   Column  Non-Null Count  Dtype \n",
      "---  ------  --------------  ----- \n",
      " 0   Name    3 non-null      object\n",
      " 1   Age     3 non-null      int64 \n",
      " 2   City    3 non-null      object\n",
      "dtypes: int64(1), object(2)\n",
      "memory usage: 204.0+ bytes\n"
     ]
    }
   ],
   "source": [
    "# info() method==>  The info() method provides a concise summary of the DataFrame, including the data types of each column, the number of non-null values, and the memory usage.\n",
    "#It gives information about the DataFrame's structure, including the number of rows and columns, column names, and data types.\n",
    "df.info()\n"
   ]
  },
  {
   "cell_type": "code",
   "execution_count": 10,
   "id": "940aceb6-dcfc-4064-b523-67b295407808",
   "metadata": {},
   "outputs": [
    {
     "name": "stdout",
     "output_type": "stream",
     "text": [
      "A     2\n",
      "B     7\n",
      "C    12\n",
      "Name: b, dtype: int64\n",
      "   A   B   C\n",
      "c  3   8  13\n",
      "d  4   9  14\n",
      "e  5  10  15\n",
      "12\n",
      "    B   C\n",
      "a   6  11\n",
      "b   7  12\n",
      "c   8  13\n",
      "d   9  14\n",
      "e  10  15\n",
      "   A   C\n",
      "a  1  11\n",
      "c  3  13\n"
     ]
    }
   ],
   "source": [
    "# 8 question  loc Method:\n",
    "\n",
    "#The loc method is used to access rows or columns using labels or boolean arrays.It uses label-based indexing, meaning you specify the row or column labels to access the data.\n",
    "import pandas as pd\n",
    "\n",
    "# Create a sample DataFrame\n",
    "data = {'A': [1, 2, 3, 4, 5],\n",
    "        'B': [6, 7, 8, 9, 10],\n",
    "        'C': [11, 12, 13, 14, 15]}\n",
    "df = pd.DataFrame(data, index=['a', 'b', 'c', 'd', 'e'])\n",
    "\n",
    "row_b = df.loc['b']\n",
    "print(row_b)\n",
    "rows_c_to_e = df.loc['c':'e']\n",
    "print(rows_c_to_e)\n",
    "\n",
    "element_c_b = df.loc['b', 'C']\n",
    "print(element_c_b)\n",
    "\n",
    "columns_B_and_C = df.loc[:, ['B', 'C']]\n",
    "print(columns_B_and_C)\n",
    "subset = df.loc[['a', 'c'], ['A', 'C']]\n",
    "print(subset)\n"
   ]
  },
  {
   "cell_type": "code",
   "execution_count": 12,
   "id": "dc1247a9-e714-4c1f-a694-37481a0c7c3e",
   "metadata": {},
   "outputs": [
    {
     "data": {
      "text/html": [
       "<div>\n",
       "<style scoped>\n",
       "    .dataframe tbody tr th:only-of-type {\n",
       "        vertical-align: middle;\n",
       "    }\n",
       "\n",
       "    .dataframe tbody tr th {\n",
       "        vertical-align: top;\n",
       "    }\n",
       "\n",
       "    .dataframe thead th {\n",
       "        text-align: right;\n",
       "    }\n",
       "</style>\n",
       "<table border=\"1\" class=\"dataframe\">\n",
       "  <thead>\n",
       "    <tr style=\"text-align: right;\">\n",
       "      <th></th>\n",
       "      <th>B</th>\n",
       "      <th>C</th>\n",
       "    </tr>\n",
       "  </thead>\n",
       "  <tbody>\n",
       "    <tr>\n",
       "      <th>c</th>\n",
       "      <td>8</td>\n",
       "      <td>13</td>\n",
       "    </tr>\n",
       "    <tr>\n",
       "      <th>d</th>\n",
       "      <td>9</td>\n",
       "      <td>14</td>\n",
       "    </tr>\n",
       "    <tr>\n",
       "      <th>e</th>\n",
       "      <td>10</td>\n",
       "      <td>15</td>\n",
       "    </tr>\n",
       "  </tbody>\n",
       "</table>\n",
       "</div>"
      ],
      "text/plain": [
       "    B   C\n",
       "c   8  13\n",
       "d   9  14\n",
       "e  10  15"
      ]
     },
     "execution_count": 12,
     "metadata": {},
     "output_type": "execute_result"
    }
   ],
   "source": [
    "# i loc method ==> The iloc method is used for integer-based indexing to access rows or columns.It uses positional indexing, where you specify the integer position of the rows or columns you want to access.\n",
    "df.iloc[0] \n",
    "df.iloc[:, 1]  \n",
    "df.iloc[2:5, 1:4] \n"
   ]
  },
  {
   "cell_type": "code",
   "execution_count": 55,
   "id": "8aca11df-0f6e-474f-8a34-e395371d4bea",
   "metadata": {},
   "outputs": [
    {
     "name": "stdout",
     "output_type": "stream",
     "text": [
      "A\n",
      "a    3\n",
      "b    2\n",
      "c    1\n",
      "Name: count, dtype: int64\n"
     ]
    }
   ],
   "source": [
    "# 9 question ==> \n",
    "import pandas as pd\n",
    "df = pd.DataFrame({'A': ['a', 'b', 'a', 'c', 'a', 'b']})\n",
    "counts = df['A'].value_counts()\n",
    "print(counts)\n"
   ]
  },
  {
   "cell_type": "code",
   "execution_count": 56,
   "id": "ce72b5db-e819-4c9d-94b1-8da1ff7f2a87",
   "metadata": {},
   "outputs": [
    {
     "name": "stdout",
     "output_type": "stream",
     "text": [
      "Most common value: a\n"
     ]
    }
   ],
   "source": [
    "most_common = df['A'].value_counts().idxmax()\n",
    "print(\"Most common value:\", most_common)\n"
   ]
  },
  {
   "cell_type": "code",
   "execution_count": 57,
   "id": "500f93fc-6fb8-449a-ad73-c69e0a3943ff",
   "metadata": {},
   "outputs": [
    {
     "name": "stdout",
     "output_type": "stream",
     "text": [
      "Missing values: 0\n"
     ]
    }
   ],
   "source": [
    "missing_values = df['A'].isnull().sum()\n",
    "print(\"Missing values:\", missing_values)\n"
   ]
  },
  {
   "cell_type": "code",
   "execution_count": 58,
   "id": "3e51bba9-36e9-4537-a51f-2900e4eebd5c",
   "metadata": {},
   "outputs": [
    {
     "data": {
      "text/plain": [
       "<Axes: xlabel='A'>"
      ]
     },
     "execution_count": 58,
     "metadata": {},
     "output_type": "execute_result"
    },
    {
     "data": {
      "image/png": "[encoded data removed]",
      "text/plain": [
       "<Figure size 640x480 with 1 Axes>"
      ]
     },
     "metadata": {},
     "output_type": "display_data"
    }
   ],
   "source": [
    "counts.plot(kind='bar')"
   ]
  },
  {
   "cell_type": "code",
   "execution_count": 59,
   "id": "f2934adb-8ac7-46d6-bf74-213ee48ae3e4",
   "metadata": {},
   "outputs": [
    {
     "name": "stdout",
     "output_type": "stream",
     "text": [
      "   employee_id   name  department_id department_name\n",
      "0            1   John            101           Sales\n",
      "1            3    Bob            101           Sales\n",
      "2            2  Alice            102              IT\n",
      "3            5  David            102              IT\n",
      "4            4   Emma            103      Operations\n"
     ]
    }
   ],
   "source": [
    "#  10 question==> merge() Function:\n",
    "\n",
    "#Used for merging DataFrame objects by performing database-style joins on columns or indices.It is suitable when you have two DataFrame objects with similar or different columns and you want to combine them based on one or more common columns.\n",
    "# Merging two DataFrames based on a common column 'key'\n",
    "import pandas as pd\n",
    "employee_data = {\n",
    "    'employee_id': [1, 2, 3, 4, 5],\n",
    "    'name': ['John', 'Alice', 'Bob', 'Emma', 'David'],\n",
    "    'department_id': [101, 102, 101, 103, 102]\n",
    "}\n",
    "employee_df = pd.DataFrame(employee_data)\n",
    "department_data = {\n",
    "    'department_id': [101, 102, 103],\n",
    "    'department_name': ['Sales', 'IT', 'Operations']\n",
    "}\n",
    "department_df = pd.DataFrame(department_data)\n",
    "merged_df = pd.merge(employee_df, department_df, on='department_id', how='inner')\n",
    "print(merged_df)\n"
   ]
  },
  {
   "cell_type": "code",
   "execution_count": 13,
   "id": "036d3cd1-3283-4033-bab3-fb4fe6651f57",
   "metadata": {},
   "outputs": [
    {
     "name": "stdout",
     "output_type": "stream",
     "text": [
      "   student_id  exam_score  study_hours\n",
      "0           1          85            5\n",
      "1           2          90            6\n",
      "2           3          75            4\n",
      "3           4          80            5\n",
      "4           5          88            7\n"
     ]
    }
   ],
   "source": [
    "#concat() Function:Used for concatenating (i.e., stacking or appending) DataFrame objects along a particular axis (either rows or columns).It is suitable when you want to combine multiple DataFrame objects with the same columns or the same indices.\n",
    "\n",
    "import pandas as pd\n",
    "exam_scores_data = {\n",
    "    'student_id': [1, 2, 3, 4, 5],\n",
    "    'exam_score': [85, 90, 75, 80, 88]\n",
    "}\n",
    "exam_scores_df = pd.DataFrame(exam_scores_data)\n",
    "study_hours_data = {\n",
    "    'student_id': [1, 2, 3, 4, 5],\n",
    "    'study_hours': [5, 6, 4, 5, 7]\n",
    "}\n",
    "study_hours_df = pd.DataFrame(study_hours_data)\n",
    "\n",
    "student_data_df = pd.concat([exam_scores_df, study_hours_df['study_hours']], axis=1)\n",
    "\n",
    "print(student_data_df)\n",
    "\n"
   ]
  },
  {
   "cell_type": "code",
   "execution_count": 73,
   "id": "d0996fd3-6f3a-4673-8e09-2b6e6b5fba9d",
   "metadata": {},
   "outputs": [
    {
     "name": "stdout",
     "output_type": "stream",
     "text": [
      "   new_name1  new_name2\n",
      "0          1          4\n",
      "1          2          5\n",
      "2          3          6\n"
     ]
    }
   ],
   "source": [
    "# 11 question \n",
    "import pandas as pd\n",
    "data = {'old_name1': [1, 2, 3],\n",
    "        'old_name2': [4, 5, 6]}\n",
    "df = pd.DataFrame(data)\n",
    "df = df.rename(columns={'old_name1': 'new_name1', 'old_name2': 'new_name2'})\n",
    "\n",
    "print(df)\n"
   ]
  },
  {
   "cell_type": "code",
   "execution_count": 14,
   "id": "80d0fbd9-f86c-4f10-b8c3-81bbe4d0d8fa",
   "metadata": {},
   "outputs": [
    {
     "name": "stdout",
     "output_type": "stream",
     "text": [
      "   Employee ID   Name  Department  Working Hours  Salary  Sales  IT  \\\n",
      "0            1   John       Sales             40   52000      1   0   \n",
      "1            2  Alice          IT             37   60000      0   1   \n",
      "2            3    Bob  Operations             38   57000      0   0   \n",
      "3            4   Emma       Sales             44   52000      1   0   \n",
      "4            5  David          IT             37   58000      0   1   \n",
      "\n",
      "   Operations  \n",
      "0           0  \n",
      "1           0  \n",
      "2           1  \n",
      "3           0  \n",
      "4           0  \n"
     ]
    }
   ],
   "source": [
    "# 12 question. \n",
    "\n",
    "import pandas as pd\n",
    "data = {\n",
    "    'Employee ID': [1, 2, 3, 4, 5],\n",
    "    'Name': ['John', 'Alice', 'Bob', 'Emma', 'David'],\n",
    "    'Department': ['Sales', 'IT', 'Operations', 'Sales', 'IT'],\n",
    "    'Working Hours': [40, 35, 38, 42, 37],\n",
    "    'Salary': [50000, 60000, 55000, 52000, 58000]\n",
    "}\n",
    "\n",
    "df = pd.DataFrame(data)\n",
    "\n",
    "df.loc[df['Employee ID'].isin([1, 3]), 'Salary'] += 2000\n",
    "\n",
    "df.loc[df['Employee ID'].isin([2, 4]), 'Working Hours'] += 2\n",
    "\n",
    "df['Sales'] = 0\n",
    "df['IT'] = 0\n",
    "df['Operations'] = 0\n",
    "\n",
    "df['Sales'] = df['Department'].apply(lambda x: 1 if x == 'Sales' else 0)\n",
    "df['IT'] = df['Department'].apply(lambda x: 1 if x == 'IT' else 0)\n",
    "df['Operations'] = df['Department'].apply(lambda x: 1 if x == 'Operations' else 0)\n",
    "\n",
    "print(df)\n"
   ]
  },
  {
   "cell_type": "code",
   "execution_count": 61,
   "id": "3fde175b-dba5-422d-b491-abc90ee6d3f3",
   "metadata": {},
   "outputs": [
    {
     "data": {
      "image/png": "[encoded data removed]",
      "text/plain": [
       "<Figure size 640x480 with 1 Axes>"
      ]
     },
     "metadata": {},
     "output_type": "display_data"
    },
    {
     "name": "stdout",
     "output_type": "stream",
     "text": [
      "Summary Statistics:\n",
      "count     20.000000\n",
      "mean     170.350000\n",
      "std        4.891184\n",
      "min      160.000000\n",
      "25%      168.000000\n",
      "50%      170.000000\n",
      "75%      172.500000\n",
      "max      180.000000\n",
      "Name: Height (cm), dtype: float64\n"
     ]
    }
   ],
   "source": [
    "# 13. question Univariate Analysis: Univariate analysis involves the analysis of a single variable or feature at a time.It focuses on summarizing and describing the distribution, central tendency, and variability of the data within a single variable.Common statistical measures used in univariate analysis include mean, median, mode, standard deviation, range, and frequency counts.\n",
    "import pandas as pd\n",
    "import matplotlib.pyplot as plt\n",
    "heights_data = {'Height (cm)': [165, 170, 172, 168, 175, 160, 163, 170, 168, 172, \n",
    "                                 180, 178, 176, 168, 170, 172, 169, 174, 171, 166]}\n",
    "df = pd.DataFrame(heights_data)\n",
    "summary_stats = df['Height (cm)'].describe()\n",
    "plt.hist(df['Height (cm)'], bins=10, edgecolor='black')\n",
    "plt.xlabel('Height (cm)')\n",
    "plt.ylabel('Frequency')\n",
    "plt.title('Distribution of Student Heights')\n",
    "plt.show()\n",
    "print(\"Summary Statistics:\")\n",
    "print(summary_stats)\n"
   ]
  },
  {
   "cell_type": "code",
   "execution_count": 15,
   "id": "082412b2-949e-4ad2-9091-e647cd154b34",
   "metadata": {},
   "outputs": [
    {
     "data": {
      "image/png": "[encoded data removed]",
      "text/plain": [
       "<Figure size 640x480 with 1 Axes>"
      ]
     },
     "metadata": {},
     "output_type": "display_data"
    },
    {
     "name": "stdout",
     "output_type": "stream",
     "text": [
      "Correlation Coefficient: 1.0\n"
     ]
    }
   ],
   "source": [
    "#Bivariate Analysis:\n",
    "\n",
    "#Bivariate analysis involves the analysis of the relationship between two variables simultaneously.\n",
    "# It examines how one variable varies with respect to another variable.\n",
    "# Bivariate analysis can include correlation analysis, scatter plots, contingency tables, and regression analysis.\n",
    "import pandas as pd\n",
    "import matplotlib.pyplot as plt\n",
    "data = {'Study Hours': [2, 3, 4, 5, 6, 7, 8, 9, 10],\n",
    "        'Exam Score': [60, 65, 70, 75, 80, 85, 90, 95, 100]}\n",
    "\n",
    "df = pd.DataFrame(data)\n",
    "\n",
    "plt.scatter(df['Study Hours'], df['Exam Score'])\n",
    "plt.xlabel('Study Hours')\n",
    "plt.ylabel('Exam Score')\n",
    "plt.title('Study Hours vs. Exam Score')\n",
    "plt.show()\n",
    "correlation_coefficient = df['Study Hours'].corr(df['Exam Score'])\n",
    "print(\"Correlation Coefficient:\", correlation_coefficient)\n"
   ]
  },
  {
   "cell_type": "code",
   "execution_count": 63,
   "id": "30a6ed52-7e61-45dc-8048-1004fbe81645",
   "metadata": {},
   "outputs": [
    {
     "data": {
      "image/png": "[encoded data removed]",
      "text/plain": [
       "<Figure size 800x600 with 1 Axes>"
      ]
     },
     "metadata": {},
     "output_type": "display_data"
    }
   ],
   "source": [
    "# Multivariate Analysis:\n",
    "\n",
    "# Multivariate analysis involves the analysis of three or more variables simultaneously.\n",
    "# It explores the relationships and dependencies among multiple variables in a dataset.\n",
    "# #Multivariate analysis techniques include multiple regression analysis, factor analysis, principal component analysis (PCA), and cluster analysis.\n",
    "import numpy as np\n",
    "import pandas as pd\n",
    "import matplotlib.pyplot as plt\n",
    "import seaborn as sns\n",
    "from sklearn.decomposition import PCA\n",
    "from sklearn.preprocessing import StandardScaler\n",
    "data = {\n",
    "    'Exam Score': [85, 70, 90, 75, 80],\n",
    "    'Study Hours': [5, 4, 6, 3, 5],\n",
    "    'SES': ['Medium', 'Low', 'High', 'Medium', 'Low']\n",
    "}\n",
    "\n",
    "df = pd.DataFrame(data)\n",
    "df = pd.get_dummies(df, columns=['SES'], drop_first=True)\n",
    "scaler = StandardScaler()\n",
    "df_scaled = scaler.fit_transform(df)\n",
    "pca = PCA(n_components=2)\n",
    "pca_result = pca.fit_transform(df_scaled)\n",
    "\n",
    "pca_df = pd.DataFrame(data=pca_result, columns=['PC1', 'PC2'])\n",
    "\n",
    "plt.figure(figsize=(8, 6))\n",
    "sns.scatterplot(data=pca_df, x='PC1', y='PC2')\n",
    "plt.title('PCA Plot')\n",
    "plt.xlabel('Principal Component 1')\n",
    "plt.ylabel('Principal Component 2')\n",
    "plt.grid(True)\n",
    "plt.show()\n"
   ]
  },
  {
   "cell_type": "code",
   "execution_count": 16,
   "id": "9170c7eb-f394-4bf4-8fb6-eebb3f3563e4",
   "metadata": {},
   "outputs": [
    {
     "name": "stdout",
     "output_type": "stream",
     "text": [
      "   Gender Marital_Status Education_Level\n",
      "0    Male         Single     High School\n",
      "1  Female        Married         College\n",
      "2  Female         Single         College\n",
      "3    Male        Married        Graduate\n",
      "4    Male       Divorced        Graduate\n"
     ]
    }
   ],
   "source": [
    "# 14 question.  Discrete Data:\n",
    "\n",
    "# Discrete data consists of distinct, separate values.\n",
    "# It represents countable quantities that can only take specific, finite values with no intermediate values possible.\n",
    "import pandas as pd\n",
    "\n",
    "data = {\n",
    "    'Gender': ['Male', 'Female', 'Female', 'Male', 'Male'],\n",
    "    'Marital_Status': ['Single', 'Married', 'Single', 'Married', 'Divorced'],\n",
    "    'Education_Level': ['High School', 'College', 'College', 'Graduate', 'Graduate']\n",
    "}\n",
    "df = pd.DataFrame(data)\n",
    "print(df)\n"
   ]
  },
  {
   "cell_type": "code",
   "execution_count": 17,
   "id": "d54fc152-168a-45dd-81bd-a4e9e46f3313",
   "metadata": {},
   "outputs": [
    {
     "name": "stdout",
     "output_type": "stream",
     "text": [
      "   Temperature  Height\n",
      "0         25.5   165.2\n",
      "1         26.0   170.5\n",
      "2         24.8   160.0\n",
      "3         27.3   175.3\n",
      "4         25.9   168.7\n"
     ]
    }
   ],
   "source": [
    "# Continuous Data:\n",
    "\n",
    "# Continuous data represents measurements that can take on any value within a given range.\n",
    "# It can have an infinite number of possible values, including fractional or decimal values.\n",
    "# Creating DataFrames with Continuous Data\n",
    "import pandas as pd\n",
    "\n",
    "data = {\n",
    "    'Temperature': [25.5, 26.0, 24.8, 27.3, 25.9],\n",
    "    'Height': [165.2, 170.5, 160.0, 175.3, 168.7]\n",
    "}\n",
    "df = pd.DataFrame(data)\n",
    "print(df)\n"
   ]
  },
  {
   "cell_type": "code",
   "execution_count": 68,
   "id": "1d185d4d-9128-4efe-94b3-bafc915be3db",
   "metadata": {},
   "outputs": [
    {
     "name": "stdout",
     "output_type": "stream",
     "text": [
      "   A  B   C\n",
      "0  1  5   9\n",
      "1  2  6  10\n",
      "2  3  7  11\n",
      "3  4  8  12\n"
     ]
    }
   ],
   "source": [
    "# 15 question. numeric data==> Numeric data refers to data that is represented by numbers and can be measured or counted. It includes both discrete and continuous numerical values. \n",
    "\n",
    "import pandas as pd\n",
    "data = {\n",
    "    'A': [1, 2, 3, 4],\n",
    "    'B': [5, 6, 7, 8],\n",
    "    'C': [9, 10, 11, 12]\n",
    "}\n",
    "df = pd.DataFrame(data)\n",
    "print(df)\n",
    "\n"
   ]
  },
  {
   "cell_type": "code",
   "execution_count": 18,
   "id": "2135f878-f793-4f9a-b88b-097a657ea7dd",
   "metadata": {},
   "outputs": [
    {
     "name": "stdout",
     "output_type": "stream",
     "text": [
      "  Category\n",
      "0        A\n",
      "1        B\n",
      "2        A\n",
      "3        C\n",
      "4        B\n"
     ]
    }
   ],
   "source": [
    "# catoric data ==> Categorical data refers to data that represents categories or labels, rather than numerical values. \n",
    "\n",
    "import pandas as pd\n",
    "data = {'Category': ['A', 'B', 'A', 'C', 'B']}\n",
    "df = pd.DataFrame(data)\n",
    "print(df)\n"
   ]
  },
  {
   "cell_type": "code",
   "execution_count": null,
   "id": "91db71ca-e781-45b4-9acf-2f85c29c3f83",
   "metadata": {},
   "outputs": [],
   "source": []
  }
 ],
 "metadata": {
  "kernelspec": {
   "display_name": "Python 3 (ipykernel)",
   "language": "python",
   "name": "python3"
  },
  "language_info": {
   "codemirror_mode": {
    "name": "ipython",
    "version": 3
   },
   "file_extension": ".py",
   "mimetype": "text/x-python",
   "name": "python",
   "nbconvert_exporter": "python",
   "pygments_lexer": "ipython3",
   "version": "3.11.7"
  }
 },
 "nbformat": 4,
 "nbformat_minor": 5
}
