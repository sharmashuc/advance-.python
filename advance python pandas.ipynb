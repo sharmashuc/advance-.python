{
 "cells": [
  {
   "cell_type": "code",
   "execution_count": null,
   "id": "cd2101cf-e240-4e20-a2e7-6fe5a86fedcd",
   "metadata": {},
   "outputs": [],
   "source": [
    "pandas ==>open source liabrary that is used for handle data manipulations.\n",
    "data structure of pandas ==>\n",
    "1. series ===> it is used for one dimensional data.it shows only value of a columnand it will not include column name.\n",
    "2. data frame ===> it is multi-dimensional data. it shows column name with values"
   ]
  },
  {
   "cell_type": "code",
   "execution_count": 8,
   "id": "1ba0dae7-8927-459f-a06c-2e6071754cef",
   "metadata": {},
   "outputs": [],
   "source": [
    "import pandas as pd"
   ]
  },
  {
   "cell_type": "code",
   "execution_count": 9,
   "id": "0b27dd71-18aa-469f-be0a-5e88205eaae0",
   "metadata": {},
   "outputs": [
    {
     "data": {
      "text/plain": [
       "0     1\n",
       "1    34\n",
       "2    78\n",
       "3    90\n",
       "dtype: int64"
      ]
     },
     "execution_count": 9,
     "metadata": {},
     "output_type": "execute_result"
    }
   ],
   "source": [
    "a = pd.Series([1,34,78,90])\n",
    "a"
   ]
  },
  {
   "cell_type": "code",
   "execution_count": null,
   "id": "8ad5308a-6a28-4504-8115-e47e45253fa6",
   "metadata": {},
   "outputs": [],
   "source": [
    "(2). data frame ===>"
   ]
  },
  {
   "cell_type": "code",
   "execution_count": 11,
   "id": "6aab0531-1c39-4f93-8d00-44655b907d16",
   "metadata": {},
   "outputs": [],
   "source": [
    "a = {\n",
    "    \"EMP_ID\" : [1,2,3,4,5,6,7,8],\n",
    "    \"NAME\" : ['Sam' ,'Rahul' , 'Gaurav' , 'Aniket' ,'Anjali' ,'Pooja' , 'Muskan' , 'Raja'],\n",
    "    \"DEPARTMENT\" : ['IT' ,'HR' ,'IT' ,'HR','IT','HR','IT','HR'],\n",
    "    \"SALARY\" : [25000,27000,26000,23000,34000,32000,45000,56000],\n",
    "    \"WORKING_HOURS\" : [8,9,7,8,9,7,8,9]\n",
    "}"
   ]
  },
  {
   "cell_type": "code",
   "execution_count": 12,
   "id": "6335fc6d-b6fe-4cc5-bcc8-7b2811cf6740",
   "metadata": {},
   "outputs": [
    {
     "data": {
      "text/plain": [
       "dict"
      ]
     },
     "execution_count": 12,
     "metadata": {},
     "output_type": "execute_result"
    }
   ],
   "source": [
    "type(a)"
   ]
  },
  {
   "cell_type": "code",
   "execution_count": 13,
   "id": "cf71cd92-efca-41b1-a773-04bfeaf8439e",
   "metadata": {},
   "outputs": [
    {
     "data": {
      "text/html": [
       "<div>\n",
       "<style scoped>\n",
       "    .dataframe tbody tr th:only-of-type {\n",
       "        vertical-align: middle;\n",
       "    }\n",
       "\n",
       "    .dataframe tbody tr th {\n",
       "        vertical-align: top;\n",
       "    }\n",
       "\n",
       "    .dataframe thead th {\n",
       "        text-align: right;\n",
       "    }\n",
       "</style>\n",
       "<table border=\"1\" class=\"dataframe\">\n",
       "  <thead>\n",
       "    <tr style=\"text-align: right;\">\n",
       "      <th></th>\n",
       "      <th>EMP_ID</th>\n",
       "      <th>NAME</th>\n",
       "      <th>DEPARTMENT</th>\n",
       "      <th>SALARY</th>\n",
       "      <th>WORKING_HOURS</th>\n",
       "    </tr>\n",
       "  </thead>\n",
       "  <tbody>\n",
       "    <tr>\n",
       "      <th>0</th>\n",
       "      <td>1</td>\n",
       "      <td>Sam</td>\n",
       "      <td>IT</td>\n",
       "      <td>25000</td>\n",
       "      <td>8</td>\n",
       "    </tr>\n",
       "    <tr>\n",
       "      <th>1</th>\n",
       "      <td>2</td>\n",
       "      <td>Rahul</td>\n",
       "      <td>HR</td>\n",
       "      <td>27000</td>\n",
       "      <td>9</td>\n",
       "    </tr>\n",
       "    <tr>\n",
       "      <th>2</th>\n",
       "      <td>3</td>\n",
       "      <td>Gaurav</td>\n",
       "      <td>IT</td>\n",
       "      <td>26000</td>\n",
       "      <td>7</td>\n",
       "    </tr>\n",
       "    <tr>\n",
       "      <th>3</th>\n",
       "      <td>4</td>\n",
       "      <td>Aniket</td>\n",
       "      <td>HR</td>\n",
       "      <td>23000</td>\n",
       "      <td>8</td>\n",
       "    </tr>\n",
       "    <tr>\n",
       "      <th>4</th>\n",
       "      <td>5</td>\n",
       "      <td>Anjali</td>\n",
       "      <td>IT</td>\n",
       "      <td>34000</td>\n",
       "      <td>9</td>\n",
       "    </tr>\n",
       "    <tr>\n",
       "      <th>5</th>\n",
       "      <td>6</td>\n",
       "      <td>Pooja</td>\n",
       "      <td>HR</td>\n",
       "      <td>32000</td>\n",
       "      <td>7</td>\n",
       "    </tr>\n",
       "    <tr>\n",
       "      <th>6</th>\n",
       "      <td>7</td>\n",
       "      <td>Muskan</td>\n",
       "      <td>IT</td>\n",
       "      <td>45000</td>\n",
       "      <td>8</td>\n",
       "    </tr>\n",
       "    <tr>\n",
       "      <th>7</th>\n",
       "      <td>8</td>\n",
       "      <td>Raja</td>\n",
       "      <td>HR</td>\n",
       "      <td>56000</td>\n",
       "      <td>9</td>\n",
       "    </tr>\n",
       "  </tbody>\n",
       "</table>\n",
       "</div>"
      ],
      "text/plain": [
       "   EMP_ID    NAME DEPARTMENT  SALARY  WORKING_HOURS\n",
       "0       1     Sam         IT   25000              8\n",
       "1       2   Rahul         HR   27000              9\n",
       "2       3  Gaurav         IT   26000              7\n",
       "3       4  Aniket         HR   23000              8\n",
       "4       5  Anjali         IT   34000              9\n",
       "5       6   Pooja         HR   32000              7\n",
       "6       7  Muskan         IT   45000              8\n",
       "7       8    Raja         HR   56000              9"
      ]
     },
     "execution_count": 13,
     "metadata": {},
     "output_type": "execute_result"
    }
   ],
   "source": [
    "df = pd.DataFrame(a)\n",
    "df"
   ]
  },
  {
   "cell_type": "code",
   "execution_count": null,
   "id": "5c29c9cb-03bd-49e0-b2af-b17f1a71bcde",
   "metadata": {},
   "outputs": [],
   "source": [
    "#how to check top 5 data from a dataframe"
   ]
  },
  {
   "cell_type": "code",
   "execution_count": 14,
   "id": "6e1b5dc0-da08-488f-a0d3-21e75aaca169",
   "metadata": {},
   "outputs": [
    {
     "data": {
      "text/html": [
       "<div>\n",
       "<style scoped>\n",
       "    .dataframe tbody tr th:only-of-type {\n",
       "        vertical-align: middle;\n",
       "    }\n",
       "\n",
       "    .dataframe tbody tr th {\n",
       "        vertical-align: top;\n",
       "    }\n",
       "\n",
       "    .dataframe thead th {\n",
       "        text-align: right;\n",
       "    }\n",
       "</style>\n",
       "<table border=\"1\" class=\"dataframe\">\n",
       "  <thead>\n",
       "    <tr style=\"text-align: right;\">\n",
       "      <th></th>\n",
       "      <th>EMP_ID</th>\n",
       "      <th>NAME</th>\n",
       "      <th>DEPARTMENT</th>\n",
       "      <th>SALARY</th>\n",
       "      <th>WORKING_HOURS</th>\n",
       "    </tr>\n",
       "  </thead>\n",
       "  <tbody>\n",
       "    <tr>\n",
       "      <th>0</th>\n",
       "      <td>1</td>\n",
       "      <td>Sam</td>\n",
       "      <td>IT</td>\n",
       "      <td>25000</td>\n",
       "      <td>8</td>\n",
       "    </tr>\n",
       "    <tr>\n",
       "      <th>1</th>\n",
       "      <td>2</td>\n",
       "      <td>Rahul</td>\n",
       "      <td>HR</td>\n",
       "      <td>27000</td>\n",
       "      <td>9</td>\n",
       "    </tr>\n",
       "    <tr>\n",
       "      <th>2</th>\n",
       "      <td>3</td>\n",
       "      <td>Gaurav</td>\n",
       "      <td>IT</td>\n",
       "      <td>26000</td>\n",
       "      <td>7</td>\n",
       "    </tr>\n",
       "    <tr>\n",
       "      <th>3</th>\n",
       "      <td>4</td>\n",
       "      <td>Aniket</td>\n",
       "      <td>HR</td>\n",
       "      <td>23000</td>\n",
       "      <td>8</td>\n",
       "    </tr>\n",
       "    <tr>\n",
       "      <th>4</th>\n",
       "      <td>5</td>\n",
       "      <td>Anjali</td>\n",
       "      <td>IT</td>\n",
       "      <td>34000</td>\n",
       "      <td>9</td>\n",
       "    </tr>\n",
       "  </tbody>\n",
       "</table>\n",
       "</div>"
      ],
      "text/plain": [
       "   EMP_ID    NAME DEPARTMENT  SALARY  WORKING_HOURS\n",
       "0       1     Sam         IT   25000              8\n",
       "1       2   Rahul         HR   27000              9\n",
       "2       3  Gaurav         IT   26000              7\n",
       "3       4  Aniket         HR   23000              8\n",
       "4       5  Anjali         IT   34000              9"
      ]
     },
     "execution_count": 14,
     "metadata": {},
     "output_type": "execute_result"
    }
   ],
   "source": [
    "df.head()"
   ]
  },
  {
   "cell_type": "code",
   "execution_count": 15,
   "id": "4e6624cd-4ff2-4369-85ee-49a7a3cdffec",
   "metadata": {},
   "outputs": [
    {
     "data": {
      "text/html": [
       "<div>\n",
       "<style scoped>\n",
       "    .dataframe tbody tr th:only-of-type {\n",
       "        vertical-align: middle;\n",
       "    }\n",
       "\n",
       "    .dataframe tbody tr th {\n",
       "        vertical-align: top;\n",
       "    }\n",
       "\n",
       "    .dataframe thead th {\n",
       "        text-align: right;\n",
       "    }\n",
       "</style>\n",
       "<table border=\"1\" class=\"dataframe\">\n",
       "  <thead>\n",
       "    <tr style=\"text-align: right;\">\n",
       "      <th></th>\n",
       "      <th>EMP_ID</th>\n",
       "      <th>NAME</th>\n",
       "      <th>DEPARTMENT</th>\n",
       "      <th>SALARY</th>\n",
       "      <th>WORKING_HOURS</th>\n",
       "    </tr>\n",
       "  </thead>\n",
       "  <tbody>\n",
       "    <tr>\n",
       "      <th>0</th>\n",
       "      <td>1</td>\n",
       "      <td>Sam</td>\n",
       "      <td>IT</td>\n",
       "      <td>25000</td>\n",
       "      <td>8</td>\n",
       "    </tr>\n",
       "    <tr>\n",
       "      <th>1</th>\n",
       "      <td>2</td>\n",
       "      <td>Rahul</td>\n",
       "      <td>HR</td>\n",
       "      <td>27000</td>\n",
       "      <td>9</td>\n",
       "    </tr>\n",
       "  </tbody>\n",
       "</table>\n",
       "</div>"
      ],
      "text/plain": [
       "   EMP_ID   NAME DEPARTMENT  SALARY  WORKING_HOURS\n",
       "0       1    Sam         IT   25000              8\n",
       "1       2  Rahul         HR   27000              9"
      ]
     },
     "execution_count": 15,
     "metadata": {},
     "output_type": "execute_result"
    }
   ],
   "source": [
    "df.head(2)"
   ]
  },
  {
   "cell_type": "code",
   "execution_count": null,
   "id": "7428919a-d5b8-4ab5-8f4f-151818722544",
   "metadata": {},
   "outputs": [],
   "source": [
    "#how to check bottom data"
   ]
  },
  {
   "cell_type": "code",
   "execution_count": 19,
   "id": "53952891-0752-400b-a2af-6376b8ab5f74",
   "metadata": {},
   "outputs": [
    {
     "data": {
      "text/html": [
       "<div>\n",
       "<style scoped>\n",
       "    .dataframe tbody tr th:only-of-type {\n",
       "        vertical-align: middle;\n",
       "    }\n",
       "\n",
       "    .dataframe tbody tr th {\n",
       "        vertical-align: top;\n",
       "    }\n",
       "\n",
       "    .dataframe thead th {\n",
       "        text-align: right;\n",
       "    }\n",
       "</style>\n",
       "<table border=\"1\" class=\"dataframe\">\n",
       "  <thead>\n",
       "    <tr style=\"text-align: right;\">\n",
       "      <th></th>\n",
       "      <th>EMP_ID</th>\n",
       "      <th>NAME</th>\n",
       "      <th>DEPARTMENT</th>\n",
       "      <th>SALARY</th>\n",
       "      <th>WORKING_HOURS</th>\n",
       "    </tr>\n",
       "  </thead>\n",
       "  <tbody>\n",
       "    <tr>\n",
       "      <th>3</th>\n",
       "      <td>4</td>\n",
       "      <td>Aniket</td>\n",
       "      <td>HR</td>\n",
       "      <td>23000</td>\n",
       "      <td>8</td>\n",
       "    </tr>\n",
       "    <tr>\n",
       "      <th>4</th>\n",
       "      <td>5</td>\n",
       "      <td>Anjali</td>\n",
       "      <td>IT</td>\n",
       "      <td>34000</td>\n",
       "      <td>9</td>\n",
       "    </tr>\n",
       "    <tr>\n",
       "      <th>5</th>\n",
       "      <td>6</td>\n",
       "      <td>Pooja</td>\n",
       "      <td>HR</td>\n",
       "      <td>32000</td>\n",
       "      <td>7</td>\n",
       "    </tr>\n",
       "    <tr>\n",
       "      <th>6</th>\n",
       "      <td>7</td>\n",
       "      <td>Muskan</td>\n",
       "      <td>IT</td>\n",
       "      <td>45000</td>\n",
       "      <td>8</td>\n",
       "    </tr>\n",
       "    <tr>\n",
       "      <th>7</th>\n",
       "      <td>8</td>\n",
       "      <td>Raja</td>\n",
       "      <td>HR</td>\n",
       "      <td>56000</td>\n",
       "      <td>9</td>\n",
       "    </tr>\n",
       "  </tbody>\n",
       "</table>\n",
       "</div>"
      ],
      "text/plain": [
       "   EMP_ID    NAME DEPARTMENT  SALARY  WORKING_HOURS\n",
       "3       4  Aniket         HR   23000              8\n",
       "4       5  Anjali         IT   34000              9\n",
       "5       6   Pooja         HR   32000              7\n",
       "6       7  Muskan         IT   45000              8\n",
       "7       8    Raja         HR   56000              9"
      ]
     },
     "execution_count": 19,
     "metadata": {},
     "output_type": "execute_result"
    }
   ],
   "source": [
    "df.tail() "
   ]
  },
  {
   "cell_type": "code",
   "execution_count": 20,
   "id": "4834c941-4009-459e-b7d4-e5d9d2eee2c9",
   "metadata": {},
   "outputs": [
    {
     "data": {
      "text/html": [
       "<div>\n",
       "<style scoped>\n",
       "    .dataframe tbody tr th:only-of-type {\n",
       "        vertical-align: middle;\n",
       "    }\n",
       "\n",
       "    .dataframe tbody tr th {\n",
       "        vertical-align: top;\n",
       "    }\n",
       "\n",
       "    .dataframe thead th {\n",
       "        text-align: right;\n",
       "    }\n",
       "</style>\n",
       "<table border=\"1\" class=\"dataframe\">\n",
       "  <thead>\n",
       "    <tr style=\"text-align: right;\">\n",
       "      <th></th>\n",
       "      <th>EMP_ID</th>\n",
       "      <th>NAME</th>\n",
       "      <th>DEPARTMENT</th>\n",
       "      <th>SALARY</th>\n",
       "      <th>WORKING_HOURS</th>\n",
       "    </tr>\n",
       "  </thead>\n",
       "  <tbody>\n",
       "    <tr>\n",
       "      <th>5</th>\n",
       "      <td>6</td>\n",
       "      <td>Pooja</td>\n",
       "      <td>HR</td>\n",
       "      <td>32000</td>\n",
       "      <td>7</td>\n",
       "    </tr>\n",
       "    <tr>\n",
       "      <th>6</th>\n",
       "      <td>7</td>\n",
       "      <td>Muskan</td>\n",
       "      <td>IT</td>\n",
       "      <td>45000</td>\n",
       "      <td>8</td>\n",
       "    </tr>\n",
       "    <tr>\n",
       "      <th>7</th>\n",
       "      <td>8</td>\n",
       "      <td>Raja</td>\n",
       "      <td>HR</td>\n",
       "      <td>56000</td>\n",
       "      <td>9</td>\n",
       "    </tr>\n",
       "  </tbody>\n",
       "</table>\n",
       "</div>"
      ],
      "text/plain": [
       "   EMP_ID    NAME DEPARTMENT  SALARY  WORKING_HOURS\n",
       "5       6   Pooja         HR   32000              7\n",
       "6       7  Muskan         IT   45000              8\n",
       "7       8    Raja         HR   56000              9"
      ]
     },
     "execution_count": 20,
     "metadata": {},
     "output_type": "execute_result"
    }
   ],
   "source": [
    "df.tail(3)"
   ]
  },
  {
   "cell_type": "code",
   "execution_count": 21,
   "id": "450fc406-354e-4d5b-8e29-c8a86a330818",
   "metadata": {},
   "outputs": [
    {
     "data": {
      "text/html": [
       "<div>\n",
       "<style scoped>\n",
       "    .dataframe tbody tr th:only-of-type {\n",
       "        vertical-align: middle;\n",
       "    }\n",
       "\n",
       "    .dataframe tbody tr th {\n",
       "        vertical-align: top;\n",
       "    }\n",
       "\n",
       "    .dataframe thead th {\n",
       "        text-align: right;\n",
       "    }\n",
       "</style>\n",
       "<table border=\"1\" class=\"dataframe\">\n",
       "  <thead>\n",
       "    <tr style=\"text-align: right;\">\n",
       "      <th></th>\n",
       "      <th>EMP_ID</th>\n",
       "      <th>NAME</th>\n",
       "      <th>DEPARTMENT</th>\n",
       "      <th>SALARY</th>\n",
       "      <th>WORKING_HOURS</th>\n",
       "    </tr>\n",
       "  </thead>\n",
       "  <tbody>\n",
       "    <tr>\n",
       "      <th>6</th>\n",
       "      <td>7</td>\n",
       "      <td>Muskan</td>\n",
       "      <td>IT</td>\n",
       "      <td>45000</td>\n",
       "      <td>8</td>\n",
       "    </tr>\n",
       "    <tr>\n",
       "      <th>7</th>\n",
       "      <td>8</td>\n",
       "      <td>Raja</td>\n",
       "      <td>HR</td>\n",
       "      <td>56000</td>\n",
       "      <td>9</td>\n",
       "    </tr>\n",
       "  </tbody>\n",
       "</table>\n",
       "</div>"
      ],
      "text/plain": [
       "   EMP_ID    NAME DEPARTMENT  SALARY  WORKING_HOURS\n",
       "6       7  Muskan         IT   45000              8\n",
       "7       8    Raja         HR   56000              9"
      ]
     },
     "execution_count": 21,
     "metadata": {},
     "output_type": "execute_result"
    }
   ],
   "source": [
    "df.tail(2) "
   ]
  },
  {
   "cell_type": "code",
   "execution_count": null,
   "id": "78ddc429-cdff-4cc0-b388-4ae2f4bfb108",
   "metadata": {},
   "outputs": [],
   "source": [
    "#how can we check random indexed data"
   ]
  },
  {
   "cell_type": "code",
   "execution_count": 16,
   "id": "94dd9003-4f97-46f4-a18d-e163bd90402c",
   "metadata": {},
   "outputs": [
    {
     "data": {
      "text/html": [
       "<div>\n",
       "<style scoped>\n",
       "    .dataframe tbody tr th:only-of-type {\n",
       "        vertical-align: middle;\n",
       "    }\n",
       "\n",
       "    .dataframe tbody tr th {\n",
       "        vertical-align: top;\n",
       "    }\n",
       "\n",
       "    .dataframe thead th {\n",
       "        text-align: right;\n",
       "    }\n",
       "</style>\n",
       "<table border=\"1\" class=\"dataframe\">\n",
       "  <thead>\n",
       "    <tr style=\"text-align: right;\">\n",
       "      <th></th>\n",
       "      <th>EMP_ID</th>\n",
       "      <th>NAME</th>\n",
       "      <th>DEPARTMENT</th>\n",
       "      <th>SALARY</th>\n",
       "      <th>WORKING_HOURS</th>\n",
       "    </tr>\n",
       "  </thead>\n",
       "  <tbody>\n",
       "    <tr>\n",
       "      <th>3</th>\n",
       "      <td>4</td>\n",
       "      <td>Aniket</td>\n",
       "      <td>HR</td>\n",
       "      <td>23000</td>\n",
       "      <td>8</td>\n",
       "    </tr>\n",
       "    <tr>\n",
       "      <th>0</th>\n",
       "      <td>1</td>\n",
       "      <td>Sam</td>\n",
       "      <td>IT</td>\n",
       "      <td>25000</td>\n",
       "      <td>8</td>\n",
       "    </tr>\n",
       "    <tr>\n",
       "      <th>6</th>\n",
       "      <td>7</td>\n",
       "      <td>Muskan</td>\n",
       "      <td>IT</td>\n",
       "      <td>45000</td>\n",
       "      <td>8</td>\n",
       "    </tr>\n",
       "  </tbody>\n",
       "</table>\n",
       "</div>"
      ],
      "text/plain": [
       "   EMP_ID    NAME DEPARTMENT  SALARY  WORKING_HOURS\n",
       "3       4  Aniket         HR   23000              8\n",
       "0       1     Sam         IT   25000              8\n",
       "6       7  Muskan         IT   45000              8"
      ]
     },
     "execution_count": 16,
     "metadata": {},
     "output_type": "execute_result"
    }
   ],
   "source": [
    "df.sample(3)"
   ]
  },
  {
   "cell_type": "code",
   "execution_count": null,
   "id": "aae6b7c4-d292-401e-b24d-ae01c6193d7c",
   "metadata": {},
   "outputs": [],
   "source": [
    "#how to export our data "
   ]
  },
  {
   "cell_type": "code",
   "execution_count": 18,
   "id": "ef622b05-e716-430f-92f3-887ad1e57afa",
   "metadata": {},
   "outputs": [],
   "source": [
    "df.to_csv(\"C:\\\\Users\\\\snehr\\\\Desktop\\\\shubhi pdfs\\\\emp_info.csv\")"
   ]
  },
  {
   "cell_type": "code",
   "execution_count": null,
   "id": "de49bf37-5bae-4dae-acef-d8e4ab6ffb7f",
   "metadata": {},
   "outputs": [],
   "source": [
    "# step-1 (df.to_csv(\" \")) \n",
    "\n",
    "# step-2  Create a new folder ==> copy location ===> paste it into step-1 \n",
    "# df.to_csv(\"folder_location\\\\filename.csv\") \n",
    "\n"
   ]
  }
 ],
 "metadata": {
  "kernelspec": {
   "display_name": "Python 3 (ipykernel)",
   "language": "python",
   "name": "python3"
  },
  "language_info": {
   "codemirror_mode": {
    "name": "ipython",
    "version": 3
   },
   "file_extension": ".py",
   "mimetype": "text/x-python",
   "name": "python",
   "nbconvert_exporter": "python",
   "pygments_lexer": "ipython3",
   "version": "3.11.7"
  }
 },
 "nbformat": 4,
 "nbformat_minor": 5
}
