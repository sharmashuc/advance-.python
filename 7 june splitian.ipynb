{
 "cells": [
  {
   "cell_type": "code",
   "execution_count": 22,
   "id": "0197b377-2e69-44e9-bcbc-8762576a635f",
   "metadata": {},
   "outputs": [],
   "source": [
    "# population ==> all the data set  ex. country\n",
    "\n",
    "# sample ==> sub data of a dataset ex. city\n",
    "\n",
    "# normal distribution ==> from central tendancy, we have equal data from left and right side.\n",
    "\n",
    "# central tendancy==> mean, median , mode\n",
    "\n",
    "# mean = sum of total elements/ frequency(count) of elements\n",
    "a = 1,4,2,3,5\n",
    "# mean = (1+2+3+4+5)/5 = 15/5 = 3\n",
    "\n",
    "# median = sort ===> even = n/2 , odd = n+1/2\n",
    "a = 1,4,2,3,5\n",
    "# median = 1,2,3,4,5\n",
    "# odd = 5+1/2 = 6/2 = 3 rd number ===> median = 3\n",
    "\n",
    "# mode ===> most frequent values:\n",
    "a = 1,2,2,3,2,5\n",
    "# mode = 2\n",
    "\n",
    "# standard deviation ==> central tendancy ==> gap of next value.\n",
    "\n",
    "# normal distributed ==> mean = 0, std = 1"
   ]
  },
  {
   "cell_type": "code",
   "execution_count": 23,
   "id": "92a5442f-5e9a-4732-8bae-872a32e177dd",
   "metadata": {},
   "outputs": [],
   "source": [
    "# machine learning workflow\n",
    "# data(gather) ==> data preprocessing (normal distribution) ==> \n",
    "# ML Algoritham ==> Prediction ==> performance Evaluation."
   ]
  },
  {
   "cell_type": "markdown",
   "id": "d7b0184f-2561-459d-acad-e93c2fc1ab6c",
   "metadata": {},
   "source": [
    "# DATA PREPROCESSING"
   ]
  },
  {
   "cell_type": "markdown",
   "id": "ae1f2b4b-968c-4edd-8241-5f984cff660c",
   "metadata": {},
   "source": [
    "# (1). Standardization ==> mean = 0, standard deviation = "
   ]
  },
  {
   "cell_type": "code",
   "execution_count": 6,
   "id": "23debe63-c925-40fb-9372-d7f0a55fbf42",
   "metadata": {},
   "outputs": [],
   "source": [
    "# DATA ==> independent data(x) , dependent data(y)\n",
    "\n",
    "# (x) ===> x_train , x_test\n",
    "\n",
    "# (y) ===> y_train , y_test"
   ]
  },
  {
   "cell_type": "code",
   "execution_count": 10,
   "id": "3f8274cb-43a8-43c5-9f5e-94023fb63122",
   "metadata": {},
   "outputs": [],
   "source": [
    "# machine (tranning data)==> prediction (Testing data)"
   ]
  },
  {
   "cell_type": "code",
   "execution_count": 2,
   "id": "7c9a68c4-29f5-412d-a030-f3eda3db4de1",
   "metadata": {},
   "outputs": [],
   "source": [
    "import numpy as np\n",
    "import pandas as pd"
   ]
  },
  {
   "cell_type": "code",
   "execution_count": 3,
   "id": "f42dea08-d82f-4cbd-9830-740a1d0a232b",
   "metadata": {},
   "outputs": [],
   "source": [
    "df = pd.read_csv(\"C:\\\\Users\\\\snehr\\\\Desktop\\\\Datasets for pandas (24-05-2024)_files\\\\placement.csv\")"
   ]
  },
  {
   "cell_type": "code",
   "execution_count": 4,
   "id": "ac48438e-670e-40a2-8e30-539ce8d943a7",
   "metadata": {},
   "outputs": [
    {
     "data": {
      "text/html": [
       "<div>\n",
       "<style scoped>\n",
       "    .dataframe tbody tr th:only-of-type {\n",
       "        vertical-align: middle;\n",
       "    }\n",
       "\n",
       "    .dataframe tbody tr th {\n",
       "        vertical-align: top;\n",
       "    }\n",
       "\n",
       "    .dataframe thead th {\n",
       "        text-align: right;\n",
       "    }\n",
       "</style>\n",
       "<table border=\"1\" class=\"dataframe\">\n",
       "  <thead>\n",
       "    <tr style=\"text-align: right;\">\n",
       "      <th></th>\n",
       "      <th>cgpa</th>\n",
       "      <th>resume_score</th>\n",
       "      <th>placed</th>\n",
       "    </tr>\n",
       "  </thead>\n",
       "  <tbody>\n",
       "    <tr>\n",
       "      <th>0</th>\n",
       "      <td>8.14</td>\n",
       "      <td>6.52</td>\n",
       "      <td>1</td>\n",
       "    </tr>\n",
       "    <tr>\n",
       "      <th>1</th>\n",
       "      <td>6.17</td>\n",
       "      <td>5.17</td>\n",
       "      <td>0</td>\n",
       "    </tr>\n",
       "  </tbody>\n",
       "</table>\n",
       "</div>"
      ],
      "text/plain": [
       "   cgpa  resume_score  placed\n",
       "0  8.14          6.52       1\n",
       "1  6.17          5.17       0"
      ]
     },
     "execution_count": 4,
     "metadata": {},
     "output_type": "execute_result"
    }
   ],
   "source": [
    "df.head(2)"
   ]
  },
  {
   "cell_type": "code",
   "execution_count": 5,
   "id": "0161d8d2-38bc-4d4c-b751-6e0a2e98e8ac",
   "metadata": {},
   "outputs": [
    {
     "data": {
      "text/plain": [
       "pandas.core.frame.DataFrame"
      ]
     },
     "execution_count": 5,
     "metadata": {},
     "output_type": "execute_result"
    }
   ],
   "source": [
    "x = df.drop(columns = ['placed'] , axis = 1) ### Independent data\n",
    "type(x)"
   ]
  },
  {
   "cell_type": "code",
   "execution_count": 6,
   "id": "1364e512-23e1-44fd-b5f2-dff23d930c74",
   "metadata": {},
   "outputs": [
    {
     "data": {
      "text/html": [
       "<div>\n",
       "<style scoped>\n",
       "    .dataframe tbody tr th:only-of-type {\n",
       "        vertical-align: middle;\n",
       "    }\n",
       "\n",
       "    .dataframe tbody tr th {\n",
       "        vertical-align: top;\n",
       "    }\n",
       "\n",
       "    .dataframe thead th {\n",
       "        text-align: right;\n",
       "    }\n",
       "</style>\n",
       "<table border=\"1\" class=\"dataframe\">\n",
       "  <thead>\n",
       "    <tr style=\"text-align: right;\">\n",
       "      <th></th>\n",
       "      <th>cgpa</th>\n",
       "      <th>resume_score</th>\n",
       "    </tr>\n",
       "  </thead>\n",
       "  <tbody>\n",
       "    <tr>\n",
       "      <th>0</th>\n",
       "      <td>8.14</td>\n",
       "      <td>6.52</td>\n",
       "    </tr>\n",
       "    <tr>\n",
       "      <th>1</th>\n",
       "      <td>6.17</td>\n",
       "      <td>5.17</td>\n",
       "    </tr>\n",
       "  </tbody>\n",
       "</table>\n",
       "</div>"
      ],
      "text/plain": [
       "   cgpa  resume_score\n",
       "0  8.14          6.52\n",
       "1  6.17          5.17"
      ]
     },
     "execution_count": 6,
     "metadata": {},
     "output_type": "execute_result"
    }
   ],
   "source": [
    "x.head(2)"
   ]
  },
  {
   "cell_type": "code",
   "execution_count": 7,
   "id": "44808009-627f-4451-ab63-cba8481db815",
   "metadata": {},
   "outputs": [],
   "source": [
    "y = df['placed'] ### Dependent or target data"
   ]
  },
  {
   "cell_type": "code",
   "execution_count": 8,
   "id": "d84adca2-83af-4957-bdc3-0fa857ce96f1",
   "metadata": {},
   "outputs": [
    {
     "name": "stdout",
     "output_type": "stream",
     "text": [
      "Total data shape = (100, 3)\n",
      "Independent data shape = (100, 2)\n",
      "Dependent data shape = (100,)\n"
     ]
    }
   ],
   "source": [
    "print(\"Total data shape =\" , df.shape)\n",
    "print(\"Independent data shape =\" , x.shape)\n",
    "print(\"Dependent data shape =\" , y.shape)"
   ]
  },
  {
   "cell_type": "code",
   "execution_count": 9,
   "id": "cef833e0-3db0-4c81-8af8-5d495df84256",
   "metadata": {},
   "outputs": [],
   "source": [
    "from sklearn.model_selection import train_test_split"
   ]
  },
  {
   "cell_type": "code",
   "execution_count": 10,
   "id": "dcfa3f71-5006-4a06-b0d8-c62b75777430",
   "metadata": {},
   "outputs": [],
   "source": [
    "x_train , x_test , y_tain , y_test = train_test_split(x,y,test_size = 0.2 , random_state = 42)"
   ]
  },
  {
   "cell_type": "code",
   "execution_count": 11,
   "id": "4ba7dc54-0018-419c-a2df-dc23d0880546",
   "metadata": {},
   "outputs": [
    {
     "name": "stdout",
     "output_type": "stream",
     "text": [
      "Total data shape =  (100, 3)\n",
      "Independent data shape = (100, 2)\n",
      "Dependent data shape = (100,)\n",
      "x_train data shape= (80, 2)\n",
      "x_test data shape = (20, 2)\n"
     ]
    }
   ],
   "source": [
    "print(\"Total data shape = \" , df.shape)\n",
    "print(\"Independent data shape =\" , x.shape)\n",
    "print(\"Dependent data shape =\" , y.shape)\n",
    "print(\"x_train data shape=\" , x_train.shape)\n",
    "print(\"x_test data shape =\" , x_test.shape)"
   ]
  },
  {
   "cell_type": "code",
   "execution_count": 12,
   "id": "72c544b3-6470-4204-928c-4b3b2969c09c",
   "metadata": {},
   "outputs": [
    {
     "data": {
      "text/html": [
       "<div>\n",
       "<style scoped>\n",
       "    .dataframe tbody tr th:only-of-type {\n",
       "        vertical-align: middle;\n",
       "    }\n",
       "\n",
       "    .dataframe tbody tr th {\n",
       "        vertical-align: top;\n",
       "    }\n",
       "\n",
       "    .dataframe thead th {\n",
       "        text-align: right;\n",
       "    }\n",
       "</style>\n",
       "<table border=\"1\" class=\"dataframe\">\n",
       "  <thead>\n",
       "    <tr style=\"text-align: right;\">\n",
       "      <th></th>\n",
       "      <th>cgpa</th>\n",
       "      <th>resume_score</th>\n",
       "    </tr>\n",
       "  </thead>\n",
       "  <tbody>\n",
       "    <tr>\n",
       "      <th>count</th>\n",
       "      <td>80.0</td>\n",
       "      <td>80.0</td>\n",
       "    </tr>\n",
       "    <tr>\n",
       "      <th>mean</th>\n",
       "      <td>6.9</td>\n",
       "      <td>7.0</td>\n",
       "    </tr>\n",
       "    <tr>\n",
       "      <th>std</th>\n",
       "      <td>1.1</td>\n",
       "      <td>1.0</td>\n",
       "    </tr>\n",
       "    <tr>\n",
       "      <th>min</th>\n",
       "      <td>5.3</td>\n",
       "      <td>5.0</td>\n",
       "    </tr>\n",
       "    <tr>\n",
       "      <th>25%</th>\n",
       "      <td>6.0</td>\n",
       "      <td>6.3</td>\n",
       "    </tr>\n",
       "    <tr>\n",
       "      <th>50%</th>\n",
       "      <td>6.6</td>\n",
       "      <td>7.2</td>\n",
       "    </tr>\n",
       "    <tr>\n",
       "      <th>75%</th>\n",
       "      <td>8.1</td>\n",
       "      <td>7.7</td>\n",
       "    </tr>\n",
       "    <tr>\n",
       "      <th>max</th>\n",
       "      <td>9.3</td>\n",
       "      <td>9.1</td>\n",
       "    </tr>\n",
       "  </tbody>\n",
       "</table>\n",
       "</div>"
      ],
      "text/plain": [
       "       cgpa  resume_score\n",
       "count  80.0          80.0\n",
       "mean    6.9           7.0\n",
       "std     1.1           1.0\n",
       "min     5.3           5.0\n",
       "25%     6.0           6.3\n",
       "50%     6.6           7.2\n",
       "75%     8.1           7.7\n",
       "max     9.3           9.1"
      ]
     },
     "execution_count": 12,
     "metadata": {},
     "output_type": "execute_result"
    }
   ],
   "source": [
    "np.round(x_train.describe() , 1)"
   ]
  },
  {
   "cell_type": "code",
   "execution_count": 13,
   "id": "b0dda25d-9b90-4091-abae-47630936f8be",
   "metadata": {},
   "outputs": [],
   "source": [
    "# Now we will apply standardization so that we can convert our data into normal distribution.\n",
    "\n",
    "# mean = 0\n",
    "# standard deviation = 1"
   ]
  },
  {
   "cell_type": "code",
   "execution_count": 14,
   "id": "dd6e4e7c-1cc7-48a2-b31e-7ad4958c1479",
   "metadata": {},
   "outputs": [
    {
     "ename": "ImportError",
     "evalue": "cannot import name 'standardScaler' from 'sklearn.preprocessing' (C:\\Users\\snehr\\anaconda3\\Lib\\site-packages\\sklearn\\preprocessing\\__init__.py)",
     "output_type": "error",
     "traceback": [
      "\u001b[1;31m---------------------------------------------------------------------------\u001b[0m",
      "\u001b[1;31mImportError\u001b[0m                               Traceback (most recent call last)",
      "Cell \u001b[1;32mIn[14], line 1\u001b[0m\n\u001b[1;32m----> 1\u001b[0m \u001b[38;5;28;01mfrom\u001b[39;00m \u001b[38;5;21;01msklearn\u001b[39;00m\u001b[38;5;21;01m.\u001b[39;00m\u001b[38;5;21;01mpreprocessing\u001b[39;00m \u001b[38;5;28;01mimport\u001b[39;00m standardScaler\n",
      "\u001b[1;31mImportError\u001b[0m: cannot import name 'standardScaler' from 'sklearn.preprocessing' (C:\\Users\\snehr\\anaconda3\\Lib\\site-packages\\sklearn\\preprocessing\\__init__.py)"
     ]
    }
   ],
   "source": [
    "from sklearn.preprocessing import standardScaler"
   ]
  },
  {
   "cell_type": "code",
   "execution_count": null,
   "id": "12150f05-3dba-40d9-bae6-319791ac463f",
   "metadata": {},
   "outputs": [],
   "source": []
  }
 ],
 "metadata": {
  "kernelspec": {
   "display_name": "Python 3 (ipykernel)",
   "language": "python",
   "name": "python3"
  },
  "language_info": {
   "codemirror_mode": {
    "name": "ipython",
    "version": 3
   },
   "file_extension": ".py",
   "mimetype": "text/x-python",
   "name": "python",
   "nbconvert_exporter": "python",
   "pygments_lexer": "ipython3",
   "version": "3.11.7"
  }
 },
 "nbformat": 4,
 "nbformat_minor": 5
}
